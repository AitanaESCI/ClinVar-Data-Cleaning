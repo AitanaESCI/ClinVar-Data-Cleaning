{
 "cells": [
  {
   "cell_type": "markdown",
   "metadata": {},
   "source": [
    "## Variant data selection and preprocessing (__ClinVar__)"
   ]
  },
  {
   "cell_type": "markdown",
   "metadata": {},
   "source": [
    "### Load and filter ClinVar missense variants"
   ]
  },
  {
   "cell_type": "code",
   "execution_count": 1,
   "metadata": {},
   "outputs": [],
   "source": [
    "# FTP site:              https://ftp.ncbi.nlm.nih.gov/pub/clinvar/tab_delimited/\n",
    "# Donwloaded file:       variant_summary.txt.gz\tlast modified: 2025-02-09\n",
    "\n",
    "import VEP\n",
    "import gzip\n",
    "import io\n",
    "import numpy as np\n",
    "import pandas as pd\n",
    "import re\n",
    "import warnings\n",
    "from Bio.Data import IUPACData\n",
    "from collections import Counter\n",
    "\n",
    "warnings.filterwarnings(\"ignore\")"
   ]
  },
  {
   "cell_type": "markdown",
   "metadata": {},
   "source": [
    "### Load data"
   ]
  },
  {
   "cell_type": "code",
   "execution_count": 2,
   "metadata": {},
   "outputs": [],
   "source": [
    "data = pd.read_csv('../data/clinvar/variant_summary.txt', sep='\\t')"
   ]
  },
  {
   "cell_type": "code",
   "execution_count": 3,
   "metadata": {},
   "outputs": [
    {
     "data": {
      "text/html": [
       "<div>\n",
       "<style scoped>\n",
       "    .dataframe tbody tr th:only-of-type {\n",
       "        vertical-align: middle;\n",
       "    }\n",
       "\n",
       "    .dataframe tbody tr th {\n",
       "        vertical-align: top;\n",
       "    }\n",
       "\n",
       "    .dataframe thead th {\n",
       "        text-align: right;\n",
       "    }\n",
       "</style>\n",
       "<table border=\"1\" class=\"dataframe\">\n",
       "  <thead>\n",
       "    <tr style=\"text-align: right;\">\n",
       "      <th></th>\n",
       "      <th>#AlleleID</th>\n",
       "      <th>Type</th>\n",
       "      <th>Name</th>\n",
       "      <th>GeneID</th>\n",
       "      <th>GeneSymbol</th>\n",
       "      <th>HGNC_ID</th>\n",
       "      <th>ClinicalSignificance</th>\n",
       "      <th>ClinSigSimple</th>\n",
       "      <th>LastEvaluated</th>\n",
       "      <th>RS# (dbSNP)</th>\n",
       "      <th>...</th>\n",
       "      <th>AlternateAlleleVCF</th>\n",
       "      <th>SomaticClinicalImpact</th>\n",
       "      <th>SomaticClinicalImpactLastEvaluated</th>\n",
       "      <th>ReviewStatusClinicalImpact</th>\n",
       "      <th>Oncogenicity</th>\n",
       "      <th>OncogenicityLastEvaluated</th>\n",
       "      <th>ReviewStatusOncogenicity</th>\n",
       "      <th>SCVsForAggregateGermlineClassification</th>\n",
       "      <th>SCVsForAggregateSomaticClinicalImpact</th>\n",
       "      <th>SCVsForAggregateOncogenicityClassification</th>\n",
       "    </tr>\n",
       "  </thead>\n",
       "  <tbody>\n",
       "    <tr>\n",
       "      <th>0</th>\n",
       "      <td>15041</td>\n",
       "      <td>Indel</td>\n",
       "      <td>NM_014855.3(AP5Z1):c.80_83delinsTGCTGTAAACTGTA...</td>\n",
       "      <td>9907</td>\n",
       "      <td>AP5Z1</td>\n",
       "      <td>HGNC:22197</td>\n",
       "      <td>Pathogenic</td>\n",
       "      <td>1</td>\n",
       "      <td>Jun 25, 2024</td>\n",
       "      <td>397704705</td>\n",
       "      <td>...</td>\n",
       "      <td>TGCTGTAAACTGTAACTGTAAA</td>\n",
       "      <td>-</td>\n",
       "      <td>-</td>\n",
       "      <td>-</td>\n",
       "      <td>-</td>\n",
       "      <td>-</td>\n",
       "      <td>-</td>\n",
       "      <td>SCV001451119|SCV005622007</td>\n",
       "      <td>-</td>\n",
       "      <td>-</td>\n",
       "    </tr>\n",
       "    <tr>\n",
       "      <th>1</th>\n",
       "      <td>15041</td>\n",
       "      <td>Indel</td>\n",
       "      <td>NM_014855.3(AP5Z1):c.80_83delinsTGCTGTAAACTGTA...</td>\n",
       "      <td>9907</td>\n",
       "      <td>AP5Z1</td>\n",
       "      <td>HGNC:22197</td>\n",
       "      <td>Pathogenic</td>\n",
       "      <td>1</td>\n",
       "      <td>Jun 25, 2024</td>\n",
       "      <td>397704705</td>\n",
       "      <td>...</td>\n",
       "      <td>TGCTGTAAACTGTAACTGTAAA</td>\n",
       "      <td>-</td>\n",
       "      <td>-</td>\n",
       "      <td>-</td>\n",
       "      <td>-</td>\n",
       "      <td>-</td>\n",
       "      <td>-</td>\n",
       "      <td>SCV001451119|SCV005622007</td>\n",
       "      <td>-</td>\n",
       "      <td>-</td>\n",
       "    </tr>\n",
       "    <tr>\n",
       "      <th>2</th>\n",
       "      <td>15042</td>\n",
       "      <td>Deletion</td>\n",
       "      <td>NM_014855.3(AP5Z1):c.1413_1426del (p.Leu473fs)</td>\n",
       "      <td>9907</td>\n",
       "      <td>AP5Z1</td>\n",
       "      <td>HGNC:22197</td>\n",
       "      <td>Pathogenic</td>\n",
       "      <td>1</td>\n",
       "      <td>Jun 29, 2010</td>\n",
       "      <td>397704709</td>\n",
       "      <td>...</td>\n",
       "      <td>G</td>\n",
       "      <td>-</td>\n",
       "      <td>-</td>\n",
       "      <td>-</td>\n",
       "      <td>-</td>\n",
       "      <td>-</td>\n",
       "      <td>-</td>\n",
       "      <td>SCV000020156</td>\n",
       "      <td>-</td>\n",
       "      <td>-</td>\n",
       "    </tr>\n",
       "    <tr>\n",
       "      <th>3</th>\n",
       "      <td>15042</td>\n",
       "      <td>Deletion</td>\n",
       "      <td>NM_014855.3(AP5Z1):c.1413_1426del (p.Leu473fs)</td>\n",
       "      <td>9907</td>\n",
       "      <td>AP5Z1</td>\n",
       "      <td>HGNC:22197</td>\n",
       "      <td>Pathogenic</td>\n",
       "      <td>1</td>\n",
       "      <td>Jun 29, 2010</td>\n",
       "      <td>397704709</td>\n",
       "      <td>...</td>\n",
       "      <td>G</td>\n",
       "      <td>-</td>\n",
       "      <td>-</td>\n",
       "      <td>-</td>\n",
       "      <td>-</td>\n",
       "      <td>-</td>\n",
       "      <td>-</td>\n",
       "      <td>SCV000020156</td>\n",
       "      <td>-</td>\n",
       "      <td>-</td>\n",
       "    </tr>\n",
       "    <tr>\n",
       "      <th>4</th>\n",
       "      <td>15043</td>\n",
       "      <td>single nucleotide variant</td>\n",
       "      <td>NM_014630.3(ZNF592):c.3136G&gt;A (p.Gly1046Arg)</td>\n",
       "      <td>9640</td>\n",
       "      <td>ZNF592</td>\n",
       "      <td>HGNC:28986</td>\n",
       "      <td>Uncertain significance</td>\n",
       "      <td>0</td>\n",
       "      <td>Jun 29, 2015</td>\n",
       "      <td>150829393</td>\n",
       "      <td>...</td>\n",
       "      <td>A</td>\n",
       "      <td>-</td>\n",
       "      <td>-</td>\n",
       "      <td>-</td>\n",
       "      <td>-</td>\n",
       "      <td>-</td>\n",
       "      <td>-</td>\n",
       "      <td>SCV000020157</td>\n",
       "      <td>-</td>\n",
       "      <td>-</td>\n",
       "    </tr>\n",
       "  </tbody>\n",
       "</table>\n",
       "<p>5 rows × 43 columns</p>\n",
       "</div>"
      ],
      "text/plain": [
       "   #AlleleID                       Type  \\\n",
       "0      15041                      Indel   \n",
       "1      15041                      Indel   \n",
       "2      15042                   Deletion   \n",
       "3      15042                   Deletion   \n",
       "4      15043  single nucleotide variant   \n",
       "\n",
       "                                                Name  GeneID GeneSymbol  \\\n",
       "0  NM_014855.3(AP5Z1):c.80_83delinsTGCTGTAAACTGTA...    9907      AP5Z1   \n",
       "1  NM_014855.3(AP5Z1):c.80_83delinsTGCTGTAAACTGTA...    9907      AP5Z1   \n",
       "2     NM_014855.3(AP5Z1):c.1413_1426del (p.Leu473fs)    9907      AP5Z1   \n",
       "3     NM_014855.3(AP5Z1):c.1413_1426del (p.Leu473fs)    9907      AP5Z1   \n",
       "4       NM_014630.3(ZNF592):c.3136G>A (p.Gly1046Arg)    9640     ZNF592   \n",
       "\n",
       "      HGNC_ID    ClinicalSignificance  ClinSigSimple LastEvaluated  \\\n",
       "0  HGNC:22197              Pathogenic              1  Jun 25, 2024   \n",
       "1  HGNC:22197              Pathogenic              1  Jun 25, 2024   \n",
       "2  HGNC:22197              Pathogenic              1  Jun 29, 2010   \n",
       "3  HGNC:22197              Pathogenic              1  Jun 29, 2010   \n",
       "4  HGNC:28986  Uncertain significance              0  Jun 29, 2015   \n",
       "\n",
       "   RS# (dbSNP)  ...      AlternateAlleleVCF SomaticClinicalImpact  \\\n",
       "0    397704705  ...  TGCTGTAAACTGTAACTGTAAA                     -   \n",
       "1    397704705  ...  TGCTGTAAACTGTAACTGTAAA                     -   \n",
       "2    397704709  ...                       G                     -   \n",
       "3    397704709  ...                       G                     -   \n",
       "4    150829393  ...                       A                     -   \n",
       "\n",
       "  SomaticClinicalImpactLastEvaluated ReviewStatusClinicalImpact Oncogenicity  \\\n",
       "0                                  -                          -            -   \n",
       "1                                  -                          -            -   \n",
       "2                                  -                          -            -   \n",
       "3                                  -                          -            -   \n",
       "4                                  -                          -            -   \n",
       "\n",
       "  OncogenicityLastEvaluated ReviewStatusOncogenicity  \\\n",
       "0                         -                        -   \n",
       "1                         -                        -   \n",
       "2                         -                        -   \n",
       "3                         -                        -   \n",
       "4                         -                        -   \n",
       "\n",
       "  SCVsForAggregateGermlineClassification  \\\n",
       "0              SCV001451119|SCV005622007   \n",
       "1              SCV001451119|SCV005622007   \n",
       "2                           SCV000020156   \n",
       "3                           SCV000020156   \n",
       "4                           SCV000020157   \n",
       "\n",
       "  SCVsForAggregateSomaticClinicalImpact  \\\n",
       "0                                     -   \n",
       "1                                     -   \n",
       "2                                     -   \n",
       "3                                     -   \n",
       "4                                     -   \n",
       "\n",
       "   SCVsForAggregateOncogenicityClassification  \n",
       "0                                           -  \n",
       "1                                           -  \n",
       "2                                           -  \n",
       "3                                           -  \n",
       "4                                           -  \n",
       "\n",
       "[5 rows x 43 columns]"
      ]
     },
     "execution_count": 3,
     "metadata": {},
     "output_type": "execute_result"
    }
   ],
   "source": [
    "data.head()"
   ]
  },
  {
   "cell_type": "code",
   "execution_count": 4,
   "metadata": {},
   "outputs": [
    {
     "data": {
      "text/plain": [
       "6548628"
      ]
     },
     "execution_count": 4,
     "metadata": {},
     "output_type": "execute_result"
    }
   ],
   "source": [
    "len(data)"
   ]
  },
  {
   "cell_type": "code",
   "execution_count": 5,
   "metadata": {},
   "outputs": [
    {
     "name": "stdout",
     "output_type": "stream",
     "text": [
      "1 #AlleleID\n",
      "2 Type\n",
      "3 Name\n",
      "4 GeneID\n",
      "5 GeneSymbol\n",
      "6 HGNC_ID\n",
      "7 ClinicalSignificance\n",
      "8 ClinSigSimple\n",
      "9 LastEvaluated\n",
      "10 RS# (dbSNP)\n",
      "11 nsv/esv (dbVar)\n",
      "12 RCVaccession\n",
      "13 PhenotypeIDS\n",
      "14 PhenotypeList\n",
      "15 Origin\n",
      "16 OriginSimple\n",
      "17 Assembly\n",
      "18 ChromosomeAccession\n",
      "19 Chromosome\n",
      "20 Start\n",
      "21 Stop\n",
      "22 ReferenceAllele\n",
      "23 AlternateAllele\n",
      "24 Cytogenetic\n",
      "25 ReviewStatus\n",
      "26 NumberSubmitters\n",
      "27 Guidelines\n",
      "28 TestedInGTR\n",
      "29 OtherIDs\n",
      "30 SubmitterCategories\n",
      "31 VariationID\n",
      "32 PositionVCF\n",
      "33 ReferenceAlleleVCF\n",
      "34 AlternateAlleleVCF\n",
      "35 SomaticClinicalImpact\n",
      "36 SomaticClinicalImpactLastEvaluated\n",
      "37 ReviewStatusClinicalImpact\n",
      "38 Oncogenicity\n",
      "39 OncogenicityLastEvaluated\n",
      "40 ReviewStatusOncogenicity\n",
      "41 SCVsForAggregateGermlineClassification\n",
      "42 SCVsForAggregateSomaticClinicalImpact\n",
      "43 SCVsForAggregateOncogenicityClassification\n"
     ]
    }
   ],
   "source": [
    "for count, col in enumerate(data.columns, start=1):\n",
    "    print(count, col)"
   ]
  },
  {
   "cell_type": "markdown",
   "metadata": {},
   "source": [
    "We can highlight diverse columns that will be important for the next steps:\n",
    "- __AlleleID (1)__: Unique identifier for each allele in ClinVar.\n",
    "- __GeneSymbol (5)__: Identifies the affected gene. \n",
    "- __ClinicalSignificance (7)__: Defines pathogenicity classification (e.g., benign, pathogenic, etc).\n",
    "- __ClinSigSimple (8)__: Simplified numeric version of previous column (e.g., 0 and 1).\n",
    "- __LastEvaluated (9)__: Date of the last variant classification update.\n",
    "- __ReviewStatus (25)__: Indicates the confidence level of the variant classification.\n",
    "- __Chromosome (19)__ and __PositionVCF (32)__: Gives variant location.\n",
    "- __ReferenceAlleleVCF (33)__ and __AlternateAlleleVCF (34)__: Specifies the genetic variant."
   ]
  },
  {
   "cell_type": "code",
   "execution_count": 6,
   "metadata": {},
   "outputs": [
    {
     "data": {
      "text/html": [
       "<div>\n",
       "<style scoped>\n",
       "    .dataframe tbody tr th:only-of-type {\n",
       "        vertical-align: middle;\n",
       "    }\n",
       "\n",
       "    .dataframe tbody tr th {\n",
       "        vertical-align: top;\n",
       "    }\n",
       "\n",
       "    .dataframe thead th {\n",
       "        text-align: right;\n",
       "    }\n",
       "</style>\n",
       "<table border=\"1\" class=\"dataframe\">\n",
       "  <thead>\n",
       "    <tr style=\"text-align: right;\">\n",
       "      <th></th>\n",
       "      <th>#AlleleID</th>\n",
       "      <th>GeneSymbol</th>\n",
       "      <th>ClinicalSignificance</th>\n",
       "      <th>ClinSigSimple</th>\n",
       "      <th>LastEvaluated</th>\n",
       "      <th>ReviewStatus</th>\n",
       "      <th>Chromosome</th>\n",
       "      <th>PositionVCF</th>\n",
       "      <th>ReferenceAlleleVCF</th>\n",
       "      <th>AlternateAlleleVCF</th>\n",
       "    </tr>\n",
       "  </thead>\n",
       "  <tbody>\n",
       "    <tr>\n",
       "      <th>0</th>\n",
       "      <td>15041</td>\n",
       "      <td>AP5Z1</td>\n",
       "      <td>Pathogenic</td>\n",
       "      <td>1</td>\n",
       "      <td>Jun 25, 2024</td>\n",
       "      <td>criteria provided, multiple submitters, no con...</td>\n",
       "      <td>7</td>\n",
       "      <td>4820844</td>\n",
       "      <td>GGAT</td>\n",
       "      <td>TGCTGTAAACTGTAACTGTAAA</td>\n",
       "    </tr>\n",
       "    <tr>\n",
       "      <th>1</th>\n",
       "      <td>15041</td>\n",
       "      <td>AP5Z1</td>\n",
       "      <td>Pathogenic</td>\n",
       "      <td>1</td>\n",
       "      <td>Jun 25, 2024</td>\n",
       "      <td>criteria provided, multiple submitters, no con...</td>\n",
       "      <td>7</td>\n",
       "      <td>4781213</td>\n",
       "      <td>GGAT</td>\n",
       "      <td>TGCTGTAAACTGTAACTGTAAA</td>\n",
       "    </tr>\n",
       "    <tr>\n",
       "      <th>2</th>\n",
       "      <td>15042</td>\n",
       "      <td>AP5Z1</td>\n",
       "      <td>Pathogenic</td>\n",
       "      <td>1</td>\n",
       "      <td>Jun 29, 2010</td>\n",
       "      <td>no assertion criteria provided</td>\n",
       "      <td>7</td>\n",
       "      <td>4827360</td>\n",
       "      <td>GCTGCTGGACCTGCC</td>\n",
       "      <td>G</td>\n",
       "    </tr>\n",
       "    <tr>\n",
       "      <th>3</th>\n",
       "      <td>15042</td>\n",
       "      <td>AP5Z1</td>\n",
       "      <td>Pathogenic</td>\n",
       "      <td>1</td>\n",
       "      <td>Jun 29, 2010</td>\n",
       "      <td>no assertion criteria provided</td>\n",
       "      <td>7</td>\n",
       "      <td>4787729</td>\n",
       "      <td>GCTGCTGGACCTGCC</td>\n",
       "      <td>G</td>\n",
       "    </tr>\n",
       "    <tr>\n",
       "      <th>4</th>\n",
       "      <td>15043</td>\n",
       "      <td>ZNF592</td>\n",
       "      <td>Uncertain significance</td>\n",
       "      <td>0</td>\n",
       "      <td>Jun 29, 2015</td>\n",
       "      <td>no assertion criteria provided</td>\n",
       "      <td>15</td>\n",
       "      <td>85342440</td>\n",
       "      <td>G</td>\n",
       "      <td>A</td>\n",
       "    </tr>\n",
       "  </tbody>\n",
       "</table>\n",
       "</div>"
      ],
      "text/plain": [
       "   #AlleleID GeneSymbol    ClinicalSignificance  ClinSigSimple LastEvaluated  \\\n",
       "0      15041      AP5Z1              Pathogenic              1  Jun 25, 2024   \n",
       "1      15041      AP5Z1              Pathogenic              1  Jun 25, 2024   \n",
       "2      15042      AP5Z1              Pathogenic              1  Jun 29, 2010   \n",
       "3      15042      AP5Z1              Pathogenic              1  Jun 29, 2010   \n",
       "4      15043     ZNF592  Uncertain significance              0  Jun 29, 2015   \n",
       "\n",
       "                                        ReviewStatus Chromosome  PositionVCF  \\\n",
       "0  criteria provided, multiple submitters, no con...          7      4820844   \n",
       "1  criteria provided, multiple submitters, no con...          7      4781213   \n",
       "2                     no assertion criteria provided          7      4827360   \n",
       "3                     no assertion criteria provided          7      4787729   \n",
       "4                     no assertion criteria provided         15     85342440   \n",
       "\n",
       "  ReferenceAlleleVCF      AlternateAlleleVCF  \n",
       "0               GGAT  TGCTGTAAACTGTAACTGTAAA  \n",
       "1               GGAT  TGCTGTAAACTGTAACTGTAAA  \n",
       "2    GCTGCTGGACCTGCC                       G  \n",
       "3    GCTGCTGGACCTGCC                       G  \n",
       "4                  G                       A  "
      ]
     },
     "execution_count": 6,
     "metadata": {},
     "output_type": "execute_result"
    }
   ],
   "source": [
    "data[[\"#AlleleID\", \"GeneSymbol\", \"ClinicalSignificance\", \"ClinSigSimple\", \n",
    "      \"LastEvaluated\", \"ReviewStatus\", \"Chromosome\", \"PositionVCF\", \n",
    "      \"ReferenceAlleleVCF\", \"AlternateAlleleVCF\"]].head()"
   ]
  },
  {
   "cell_type": "markdown",
   "metadata": {},
   "source": [
    "### Filter by criteria"
   ]
  },
  {
   "cell_type": "markdown",
   "metadata": {},
   "source": [
    "### 1. Keep only SNVs (remove insertions, deletions, complex variants)."
   ]
  },
  {
   "cell_type": "code",
   "execution_count": 7,
   "metadata": {},
   "outputs": [
    {
     "data": {
      "text/plain": [
       "array(['Indel', 'Deletion', 'single nucleotide variant', 'Duplication',\n",
       "       'Microsatellite', 'Insertion', 'Variation', 'Complex',\n",
       "       'Translocation', 'Inversion', 'copy number gain', 'fusion',\n",
       "       'copy number loss', 'protein only', 'Tandem duplication'],\n",
       "      dtype=object)"
      ]
     },
     "execution_count": 7,
     "metadata": {},
     "output_type": "execute_result"
    }
   ],
   "source": [
    "data['Type'].unique()"
   ]
  },
  {
   "cell_type": "code",
   "execution_count": 8,
   "metadata": {},
   "outputs": [
    {
     "data": {
      "text/plain": [
       "5944878"
      ]
     },
     "execution_count": 8,
     "metadata": {},
     "output_type": "execute_result"
    }
   ],
   "source": [
    "data_filter1 = data[data.Type =='single nucleotide variant'].reset_index(drop=True)\n",
    "len(data_filter1)"
   ]
  },
  {
   "cell_type": "markdown",
   "metadata": {},
   "source": [
    "##### --> Parse \"Name\" column and filter variants"
   ]
  },
  {
   "cell_type": "code",
   "execution_count": 9,
   "metadata": {},
   "outputs": [
    {
     "name": "stdout",
     "output_type": "stream",
     "text": [
      "dict_keys(['Ala', 'Cys', 'Asp', 'Glu', 'Phe', 'Gly', 'His', 'Ile', 'Lys', 'Leu', 'Met', 'Asn', 'Pro', 'Gln', 'Arg', 'Ser', 'Thr', 'Val', 'Trp', 'Tyr'])\n",
      "dict_values(['A', 'C', 'D', 'E', 'F', 'G', 'H', 'I', 'K', 'L', 'M', 'N', 'P', 'Q', 'R', 'S', 'T', 'V', 'W', 'Y'])\n"
     ]
    }
   ],
   "source": [
    "# Convert the 3-letter Aa codes to 1-letter codes\n",
    "three_to_one = IUPACData.protein_letters_3to1\n",
    "\n",
    "print(three_to_one.keys())\n",
    "print(three_to_one.values())"
   ]
  },
  {
   "cell_type": "code",
   "execution_count": 10,
   "metadata": {},
   "outputs": [],
   "source": [
    "# Function to extract the variant in 3-letter and 1-letter format\n",
    "def extract_variant(name):\n",
    "    # find protein variant descriptions in the Name column\n",
    "    match = re.search(r'p\\.([A-Za-z]+[0-9]+[A-Za-z]+)', name)    # e.g., p.Arg123His\n",
    "    if match:\n",
    "        # extract full variant string (e.g., \"Arg123His\")\n",
    "        three_letter_variant = match.group(1)\n",
    "        # convert the 3-letter variant to 1-letter variant\n",
    "        variant_3letter = three_letter_variant\n",
    "\n",
    "        # first 3 letters (original Aa)\n",
    "        three_letter_from = three_letter_variant[:3]\n",
    "        # extract the numeric position\n",
    "        position = re.search(r'\\d+', three_letter_variant).group()\n",
    "        # last 3 letters (mutated Aa)\n",
    "        three_letter_to = three_letter_variant[-3:]\n",
    "\n",
    "        # convert 3-letter to 1-letter (e.g., \"Arg123His\" to \"R123H\")\n",
    "        one_letter_from = three_to_one.get(three_letter_from.capitalize(), three_letter_from)\n",
    "        one_letter_to = three_to_one.get(three_letter_to.capitalize(), three_letter_to)\n",
    "        variant = f\"{one_letter_from}{position}{one_letter_to}\" \n",
    "\n",
    "        return variant_3letter, variant   # e.g., \"Arg123His\", \"R123H\"\n",
    "\n",
    "    else:\n",
    "        return None, None"
   ]
  },
  {
   "cell_type": "code",
   "execution_count": 11,
   "metadata": {},
   "outputs": [],
   "source": [
    "# Addition of 2 new cols\n",
    "data_filter1[['Variant (3-letter)', 'Variant']] = data_filter1['Name'].apply(\n",
    "    lambda x: pd.Series(extract_variant(x)))"
   ]
  },
  {
   "cell_type": "code",
   "execution_count": 12,
   "metadata": {},
   "outputs": [
    {
     "data": {
      "text/html": [
       "<div>\n",
       "<style scoped>\n",
       "    .dataframe tbody tr th:only-of-type {\n",
       "        vertical-align: middle;\n",
       "    }\n",
       "\n",
       "    .dataframe tbody tr th {\n",
       "        vertical-align: top;\n",
       "    }\n",
       "\n",
       "    .dataframe thead th {\n",
       "        text-align: right;\n",
       "    }\n",
       "</style>\n",
       "<table border=\"1\" class=\"dataframe\">\n",
       "  <thead>\n",
       "    <tr style=\"text-align: right;\">\n",
       "      <th></th>\n",
       "      <th>#AlleleID</th>\n",
       "      <th>GeneSymbol</th>\n",
       "      <th>Variant (3-letter)</th>\n",
       "      <th>Variant</th>\n",
       "    </tr>\n",
       "  </thead>\n",
       "  <tbody>\n",
       "    <tr>\n",
       "      <th>0</th>\n",
       "      <td>15043</td>\n",
       "      <td>ZNF592</td>\n",
       "      <td>Gly1046Arg</td>\n",
       "      <td>G1046R</td>\n",
       "    </tr>\n",
       "    <tr>\n",
       "      <th>1</th>\n",
       "      <td>15043</td>\n",
       "      <td>ZNF592</td>\n",
       "      <td>Gly1046Arg</td>\n",
       "      <td>G1046R</td>\n",
       "    </tr>\n",
       "    <tr>\n",
       "      <th>2</th>\n",
       "      <td>15044</td>\n",
       "      <td>FOXRED1</td>\n",
       "      <td>Gln232Ter</td>\n",
       "      <td>Q232Ter</td>\n",
       "    </tr>\n",
       "    <tr>\n",
       "      <th>3</th>\n",
       "      <td>15044</td>\n",
       "      <td>FOXRED1</td>\n",
       "      <td>Gln232Ter</td>\n",
       "      <td>Q232Ter</td>\n",
       "    </tr>\n",
       "    <tr>\n",
       "      <th>4</th>\n",
       "      <td>15045</td>\n",
       "      <td>FOXRED1</td>\n",
       "      <td>Asn430Ser</td>\n",
       "      <td>N430S</td>\n",
       "    </tr>\n",
       "  </tbody>\n",
       "</table>\n",
       "</div>"
      ],
      "text/plain": [
       "   #AlleleID GeneSymbol Variant (3-letter)  Variant\n",
       "0      15043     ZNF592         Gly1046Arg   G1046R\n",
       "1      15043     ZNF592         Gly1046Arg   G1046R\n",
       "2      15044    FOXRED1          Gln232Ter  Q232Ter\n",
       "3      15044    FOXRED1          Gln232Ter  Q232Ter\n",
       "4      15045    FOXRED1          Asn430Ser    N430S"
      ]
     },
     "execution_count": 12,
     "metadata": {},
     "output_type": "execute_result"
    }
   ],
   "source": [
    "data_filter1[[\"#AlleleID\", \"GeneSymbol\", \"Variant (3-letter)\", \"Variant\"]].head()"
   ]
  },
  {
   "cell_type": "code",
   "execution_count": 13,
   "metadata": {},
   "outputs": [],
   "source": [
    "# Function to check if both parts of the variant are valid Aas\n",
    "def is_valid_variant(variant_3letter):\n",
    "    valid_amino_acids = set(three_to_one.keys())  # set of valid 3-letter Aas\n",
    "\n",
    "    if pd.isna(variant_3letter):\n",
    "        return False\n",
    "\n",
    "    # extract the 3-letter Aa codes (first 3 and last 3 chars)\n",
    "    three_letter_from = variant_3letter[:3]\n",
    "    three_letter_to = variant_3letter[-3:]\n",
    "    \n",
    "    # check if both are in the valid set and no \"Ter\" (stop codon)\n",
    "    if (three_letter_from in valid_amino_acids and three_letter_to in valid_amino_acids \n",
    "        and 'Ter' not in variant_3letter):\n",
    "        return True\n",
    "    else:\n",
    "        return False"
   ]
  },
  {
   "cell_type": "code",
   "execution_count": 14,
   "metadata": {},
   "outputs": [],
   "source": [
    "data_filter1_1 = data_filter1[data_filter1['Variant (3-letter)'].apply(is_valid_variant)]"
   ]
  },
  {
   "cell_type": "code",
   "execution_count": 15,
   "metadata": {},
   "outputs": [
    {
     "data": {
      "text/html": [
       "<div>\n",
       "<style scoped>\n",
       "    .dataframe tbody tr th:only-of-type {\n",
       "        vertical-align: middle;\n",
       "    }\n",
       "\n",
       "    .dataframe tbody tr th {\n",
       "        vertical-align: top;\n",
       "    }\n",
       "\n",
       "    .dataframe thead th {\n",
       "        text-align: right;\n",
       "    }\n",
       "</style>\n",
       "<table border=\"1\" class=\"dataframe\">\n",
       "  <thead>\n",
       "    <tr style=\"text-align: right;\">\n",
       "      <th></th>\n",
       "      <th>#AlleleID</th>\n",
       "      <th>GeneSymbol</th>\n",
       "      <th>Variant (3-letter)</th>\n",
       "      <th>Variant</th>\n",
       "    </tr>\n",
       "  </thead>\n",
       "  <tbody>\n",
       "    <tr>\n",
       "      <th>0</th>\n",
       "      <td>15043</td>\n",
       "      <td>ZNF592</td>\n",
       "      <td>Gly1046Arg</td>\n",
       "      <td>G1046R</td>\n",
       "    </tr>\n",
       "    <tr>\n",
       "      <th>1</th>\n",
       "      <td>15043</td>\n",
       "      <td>ZNF592</td>\n",
       "      <td>Gly1046Arg</td>\n",
       "      <td>G1046R</td>\n",
       "    </tr>\n",
       "    <tr>\n",
       "      <th>4</th>\n",
       "      <td>15045</td>\n",
       "      <td>FOXRED1</td>\n",
       "      <td>Asn430Ser</td>\n",
       "      <td>N430S</td>\n",
       "    </tr>\n",
       "    <tr>\n",
       "      <th>5</th>\n",
       "      <td>15045</td>\n",
       "      <td>FOXRED1</td>\n",
       "      <td>Asn430Ser</td>\n",
       "      <td>N430S</td>\n",
       "    </tr>\n",
       "    <tr>\n",
       "      <th>6</th>\n",
       "      <td>15046</td>\n",
       "      <td>NUBPL</td>\n",
       "      <td>Gly56Arg</td>\n",
       "      <td>G56R</td>\n",
       "    </tr>\n",
       "  </tbody>\n",
       "</table>\n",
       "</div>"
      ],
      "text/plain": [
       "   #AlleleID GeneSymbol Variant (3-letter) Variant\n",
       "0      15043     ZNF592         Gly1046Arg  G1046R\n",
       "1      15043     ZNF592         Gly1046Arg  G1046R\n",
       "4      15045    FOXRED1          Asn430Ser   N430S\n",
       "5      15045    FOXRED1          Asn430Ser   N430S\n",
       "6      15046      NUBPL           Gly56Arg    G56R"
      ]
     },
     "execution_count": 15,
     "metadata": {},
     "output_type": "execute_result"
    }
   ],
   "source": [
    "data_filter1_1[[\"#AlleleID\", \"GeneSymbol\", \"Variant (3-letter)\", \"Variant\"]].head()"
   ]
  },
  {
   "cell_type": "code",
   "execution_count": 16,
   "metadata": {},
   "outputs": [
    {
     "data": {
      "text/plain": [
       "3426329"
      ]
     },
     "execution_count": 16,
     "metadata": {},
     "output_type": "execute_result"
    }
   ],
   "source": [
    "# invalid or ambiguous variants were removed\n",
    "len(data_filter1_1)"
   ]
  },
  {
   "cell_type": "markdown",
   "metadata": {},
   "source": [
    "### 2. Retain submissions from 2021 and later."
   ]
  },
  {
   "cell_type": "code",
   "execution_count": 17,
   "metadata": {},
   "outputs": [
    {
     "data": {
      "text/html": [
       "<div>\n",
       "<style scoped>\n",
       "    .dataframe tbody tr th:only-of-type {\n",
       "        vertical-align: middle;\n",
       "    }\n",
       "\n",
       "    .dataframe tbody tr th {\n",
       "        vertical-align: top;\n",
       "    }\n",
       "\n",
       "    .dataframe thead th {\n",
       "        text-align: right;\n",
       "    }\n",
       "</style>\n",
       "<table border=\"1\" class=\"dataframe\">\n",
       "  <thead>\n",
       "    <tr style=\"text-align: right;\">\n",
       "      <th></th>\n",
       "      <th>LastEvaluated</th>\n",
       "    </tr>\n",
       "  </thead>\n",
       "  <tbody>\n",
       "    <tr>\n",
       "      <th>0</th>\n",
       "      <td>Jun 29, 2015</td>\n",
       "    </tr>\n",
       "    <tr>\n",
       "      <th>1</th>\n",
       "      <td>Jun 29, 2015</td>\n",
       "    </tr>\n",
       "    <tr>\n",
       "      <th>4</th>\n",
       "      <td>Jun 06, 2024</td>\n",
       "    </tr>\n",
       "    <tr>\n",
       "      <th>5</th>\n",
       "      <td>Jun 06, 2024</td>\n",
       "    </tr>\n",
       "    <tr>\n",
       "      <th>6</th>\n",
       "      <td>Jul 05, 2022</td>\n",
       "    </tr>\n",
       "  </tbody>\n",
       "</table>\n",
       "</div>"
      ],
      "text/plain": [
       "  LastEvaluated\n",
       "0  Jun 29, 2015\n",
       "1  Jun 29, 2015\n",
       "4  Jun 06, 2024\n",
       "5  Jun 06, 2024\n",
       "6  Jul 05, 2022"
      ]
     },
     "execution_count": 17,
     "metadata": {},
     "output_type": "execute_result"
    }
   ],
   "source": [
    "data_filter1_1[['LastEvaluated']].head()"
   ]
  },
  {
   "cell_type": "code",
   "execution_count": 18,
   "metadata": {},
   "outputs": [],
   "source": [
    "# convert LastEvaluated column to datetime format\n",
    "data_filter1_1['LastEvaluated'] = pd.to_datetime(data_filter1_1['LastEvaluated'], errors='coerce')\n",
    "\n",
    "# new column extracting the year and converting it to integer\n",
    "data_filter1_1['LastEvaluated (Year)'] = data_filter1_1['LastEvaluated'].dt.year.astype('Int64')"
   ]
  },
  {
   "cell_type": "code",
   "execution_count": 19,
   "metadata": {},
   "outputs": [
    {
     "data": {
      "text/html": [
       "<div>\n",
       "<style scoped>\n",
       "    .dataframe tbody tr th:only-of-type {\n",
       "        vertical-align: middle;\n",
       "    }\n",
       "\n",
       "    .dataframe tbody tr th {\n",
       "        vertical-align: top;\n",
       "    }\n",
       "\n",
       "    .dataframe thead th {\n",
       "        text-align: right;\n",
       "    }\n",
       "</style>\n",
       "<table border=\"1\" class=\"dataframe\">\n",
       "  <thead>\n",
       "    <tr style=\"text-align: right;\">\n",
       "      <th></th>\n",
       "      <th>LastEvaluated</th>\n",
       "      <th>LastEvaluated (Year)</th>\n",
       "    </tr>\n",
       "  </thead>\n",
       "  <tbody>\n",
       "    <tr>\n",
       "      <th>0</th>\n",
       "      <td>2015-06-29</td>\n",
       "      <td>2015</td>\n",
       "    </tr>\n",
       "    <tr>\n",
       "      <th>1</th>\n",
       "      <td>2015-06-29</td>\n",
       "      <td>2015</td>\n",
       "    </tr>\n",
       "    <tr>\n",
       "      <th>4</th>\n",
       "      <td>2024-06-06</td>\n",
       "      <td>2024</td>\n",
       "    </tr>\n",
       "    <tr>\n",
       "      <th>5</th>\n",
       "      <td>2024-06-06</td>\n",
       "      <td>2024</td>\n",
       "    </tr>\n",
       "    <tr>\n",
       "      <th>6</th>\n",
       "      <td>2022-07-05</td>\n",
       "      <td>2022</td>\n",
       "    </tr>\n",
       "  </tbody>\n",
       "</table>\n",
       "</div>"
      ],
      "text/plain": [
       "  LastEvaluated  LastEvaluated (Year)\n",
       "0    2015-06-29                  2015\n",
       "1    2015-06-29                  2015\n",
       "4    2024-06-06                  2024\n",
       "5    2024-06-06                  2024\n",
       "6    2022-07-05                  2022"
      ]
     },
     "execution_count": 19,
     "metadata": {},
     "output_type": "execute_result"
    }
   ],
   "source": [
    "data_filter1_1[['LastEvaluated', 'LastEvaluated (Year)']].head()"
   ]
  },
  {
   "cell_type": "code",
   "execution_count": 20,
   "metadata": {},
   "outputs": [],
   "source": [
    "# filter variants where year is 2021 or later\n",
    "data_filter2 = data_filter1_1[data_filter1_1['LastEvaluated (Year)'] >= 2021]"
   ]
  },
  {
   "cell_type": "code",
   "execution_count": 21,
   "metadata": {},
   "outputs": [
    {
     "data": {
      "text/html": [
       "<div>\n",
       "<style scoped>\n",
       "    .dataframe tbody tr th:only-of-type {\n",
       "        vertical-align: middle;\n",
       "    }\n",
       "\n",
       "    .dataframe tbody tr th {\n",
       "        vertical-align: top;\n",
       "    }\n",
       "\n",
       "    .dataframe thead th {\n",
       "        text-align: right;\n",
       "    }\n",
       "</style>\n",
       "<table border=\"1\" class=\"dataframe\">\n",
       "  <thead>\n",
       "    <tr style=\"text-align: right;\">\n",
       "      <th></th>\n",
       "      <th>LastEvaluated</th>\n",
       "      <th>LastEvaluated (Year)</th>\n",
       "    </tr>\n",
       "  </thead>\n",
       "  <tbody>\n",
       "    <tr>\n",
       "      <th>4</th>\n",
       "      <td>2024-06-06</td>\n",
       "      <td>2024</td>\n",
       "    </tr>\n",
       "    <tr>\n",
       "      <th>5</th>\n",
       "      <td>2024-06-06</td>\n",
       "      <td>2024</td>\n",
       "    </tr>\n",
       "    <tr>\n",
       "      <th>6</th>\n",
       "      <td>2022-07-05</td>\n",
       "      <td>2022</td>\n",
       "    </tr>\n",
       "    <tr>\n",
       "      <th>7</th>\n",
       "      <td>2022-07-05</td>\n",
       "      <td>2022</td>\n",
       "    </tr>\n",
       "    <tr>\n",
       "      <th>8</th>\n",
       "      <td>2024-11-01</td>\n",
       "      <td>2024</td>\n",
       "    </tr>\n",
       "  </tbody>\n",
       "</table>\n",
       "</div>"
      ],
      "text/plain": [
       "  LastEvaluated  LastEvaluated (Year)\n",
       "4    2024-06-06                  2024\n",
       "5    2024-06-06                  2024\n",
       "6    2022-07-05                  2022\n",
       "7    2022-07-05                  2022\n",
       "8    2024-11-01                  2024"
      ]
     },
     "execution_count": 21,
     "metadata": {},
     "output_type": "execute_result"
    }
   ],
   "source": [
    "data_filter2[['LastEvaluated', 'LastEvaluated (Year)']].head()"
   ]
  },
  {
   "cell_type": "code",
   "execution_count": 22,
   "metadata": {},
   "outputs": [
    {
     "data": {
      "text/plain": [
       "3112595"
      ]
     },
     "execution_count": 22,
     "metadata": {},
     "output_type": "execute_result"
    }
   ],
   "source": [
    "len(data_filter2)"
   ]
  },
  {
   "cell_type": "code",
   "execution_count": 23,
   "metadata": {},
   "outputs": [
    {
     "data": {
      "text/plain": [
       "LastEvaluated (Year)\n",
       "1965          2\n",
       "1973          2\n",
       "1976          2\n",
       "1977          2\n",
       "1979          2\n",
       "1980          4\n",
       "1981          4\n",
       "1982          2\n",
       "1983          8\n",
       "1984         10\n",
       "1985          4\n",
       "1986         10\n",
       "1987         14\n",
       "1988         16\n",
       "1989         60\n",
       "1990         80\n",
       "1991        114\n",
       "1992        192\n",
       "1993        176\n",
       "1994        176\n",
       "1995        240\n",
       "1996        166\n",
       "1997        226\n",
       "1998        282\n",
       "1999        294\n",
       "2000        314\n",
       "2001        494\n",
       "2002        393\n",
       "2003        374\n",
       "2004        384\n",
       "2005        288\n",
       "2006        392\n",
       "2007        442\n",
       "2008        424\n",
       "2009        494\n",
       "2010        540\n",
       "2011        984\n",
       "2012       1620\n",
       "2013       4998\n",
       "2014       4900\n",
       "2015       7295\n",
       "2016      16063\n",
       "2017      28332\n",
       "2018      61288\n",
       "2019      76755\n",
       "2020      71901\n",
       "2021     344526\n",
       "2022     766916\n",
       "2023     963595\n",
       "2024    1034214\n",
       "2025       3344\n",
       "dtype: int64"
      ]
     },
     "execution_count": 23,
     "metadata": {},
     "output_type": "execute_result"
    }
   ],
   "source": [
    "data_filter1_1.groupby('LastEvaluated (Year)').size()"
   ]
  },
  {
   "cell_type": "code",
   "execution_count": 24,
   "metadata": {},
   "outputs": [
    {
     "data": {
      "text/plain": [
       "LastEvaluated (Year)\n",
       "2021     344526\n",
       "2022     766916\n",
       "2023     963595\n",
       "2024    1034214\n",
       "2025       3344\n",
       "dtype: int64"
      ]
     },
     "execution_count": 24,
     "metadata": {},
     "output_type": "execute_result"
    }
   ],
   "source": [
    "data_filter2.groupby('LastEvaluated (Year)').size()"
   ]
  },
  {
   "cell_type": "markdown",
   "metadata": {},
   "source": [
    "### 3. Exclude variants with zero-star review status, VUS and conflicting classifications.\n",
    "\n",
    "##### --> Remove VUS and conflicting classifications"
   ]
  },
  {
   "cell_type": "code",
   "execution_count": 25,
   "metadata": {},
   "outputs": [
    {
     "data": {
      "text/plain": [
       "array(['Likely pathogenic',\n",
       "       'Conflicting classifications of pathogenicity',\n",
       "       'Pathogenic/Pathogenic, low penetrance; other; risk factor',\n",
       "       'Pathogenic/Likely pathogenic/Pathogenic, low penetrance; other',\n",
       "       'Uncertain significance', 'Pathogenic/Likely pathogenic',\n",
       "       'Pathogenic', 'Likely benign', 'Benign', 'Benign/Likely benign',\n",
       "       'Conflicting classifications of pathogenicity; risk factor',\n",
       "       'drug response', 'Benign; drug response',\n",
       "       'Conflicting classifications of pathogenicity; association; risk factor',\n",
       "       'Benign/Likely benign; other',\n",
       "       'Conflicting classifications of pathogenicity; other',\n",
       "       'Pathogenic/Likely pathogenic; risk factor',\n",
       "       'no classifications from unflagged records', 'not provided',\n",
       "       'Likely benign; other', 'Benign; other', 'Pathogenic; risk factor',\n",
       "       'Conflicting classifications of pathogenicity; association',\n",
       "       'Benign/Likely benign; association', 'Benign; risk factor',\n",
       "       'Benign/Likely benign; other; risk factor',\n",
       "       'Pathogenic; drug response',\n",
       "       'Pathogenic/Likely pathogenic/Pathogenic, low penetrance',\n",
       "       'Uncertain significance/Uncertain risk allele',\n",
       "       'Conflicting classifications of pathogenicity; protective',\n",
       "       'Uncertain significance; risk factor', 'Likely pathogenic; other',\n",
       "       'Likely pathogenic; association',\n",
       "       'Uncertain significance; drug response',\n",
       "       'Likely pathogenic; drug response',\n",
       "       'Conflicting classifications of pathogenicity; drug response',\n",
       "       'Pathogenic/Likely risk allele',\n",
       "       'Pathogenic/Likely pathogenic/Likely risk allele',\n",
       "       'Conflicting classifications of pathogenicity; other; risk factor',\n",
       "       'Pathogenic; other', 'other', 'Uncertain significance; other',\n",
       "       'Benign; association',\n",
       "       'Pathogenic/Pathogenic, low penetrance; other',\n",
       "       'Pathogenic/Likely pathogenic; other',\n",
       "       'Likely benign; Affects; association',\n",
       "       'Likely pathogenic/Likely risk allele', 'Likely risk allele',\n",
       "       'Uncertain risk allele; risk factor',\n",
       "       'Pathogenic/Likely pathogenic; association',\n",
       "       'Likely benign; risk factor', 'risk factor',\n",
       "       'Likely pathogenic; Affects', 'Pathogenic; association',\n",
       "       'Benign; Affects', 'Affects', 'Likely pathogenic; risk factor',\n",
       "       'Likely benign; association', 'Likely benign; drug response',\n",
       "       'Uncertain significance; association', 'association', 'protective',\n",
       "       'Likely pathogenic, low penetrance', 'Pathogenic; Affects'],\n",
       "      dtype=object)"
      ]
     },
     "execution_count": 25,
     "metadata": {},
     "output_type": "execute_result"
    }
   ],
   "source": [
    "data_filter2.ClinicalSignificance.unique()"
   ]
  },
  {
   "cell_type": "code",
   "execution_count": 26,
   "metadata": {},
   "outputs": [],
   "source": [
    "data_filter3 = data_filter2[data_filter2['ClinicalSignificance'].isin(['Pathogenic','Likely pathogenic',\n",
    "                                                                       'Pathogenic/Likely pathogenic', \n",
    "                                                                       'Benign', 'Likely benign', \n",
    "                                                                       'Benign/Likely benign'])]"
   ]
  },
  {
   "cell_type": "code",
   "execution_count": 27,
   "metadata": {},
   "outputs": [
    {
     "data": {
      "text/plain": [
       "array(['Likely pathogenic', 'Pathogenic/Likely pathogenic', 'Pathogenic',\n",
       "       'Likely benign', 'Benign', 'Benign/Likely benign'], dtype=object)"
      ]
     },
     "execution_count": 27,
     "metadata": {},
     "output_type": "execute_result"
    }
   ],
   "source": [
    "data_filter3.ClinicalSignificance.unique()"
   ]
  },
  {
   "cell_type": "code",
   "execution_count": 28,
   "metadata": {},
   "outputs": [
    {
     "data": {
      "text/plain": [
       "277997"
      ]
     },
     "execution_count": 28,
     "metadata": {},
     "output_type": "execute_result"
    }
   ],
   "source": [
    "len(data_filter3)"
   ]
  },
  {
   "cell_type": "markdown",
   "metadata": {},
   "source": [
    "##### --> Filter out variants with zero-star review status"
   ]
  },
  {
   "cell_type": "code",
   "execution_count": 29,
   "metadata": {},
   "outputs": [
    {
     "data": {
      "text/plain": [
       "array(['-', 'criteria provided, multiple submitters',\n",
       "       'no assertion criteria provided',\n",
       "       'criteria provided, single submitter'], dtype=object)"
      ]
     },
     "execution_count": 29,
     "metadata": {},
     "output_type": "execute_result"
    }
   ],
   "source": [
    "# somatic classification\n",
    "data_filter3.ReviewStatusClinicalImpact.unique()"
   ]
  },
  {
   "cell_type": "code",
   "execution_count": 30,
   "metadata": {},
   "outputs": [
    {
     "data": {
      "text/plain": [
       "array(['criteria provided, single submitter',\n",
       "       'criteria provided, multiple submitters, no conflicts',\n",
       "       'reviewed by expert panel', 'no assertion criteria provided'],\n",
       "      dtype=object)"
      ]
     },
     "execution_count": 30,
     "metadata": {},
     "output_type": "execute_result"
    }
   ],
   "source": [
    "# germline classification\n",
    "data_filter3.ReviewStatus.unique()"
   ]
  },
  {
   "cell_type": "code",
   "execution_count": 31,
   "metadata": {},
   "outputs": [
    {
     "data": {
      "text/plain": [
       "ReviewStatus\n",
       "criteria provided, single submitter                     176317\n",
       "criteria provided, multiple submitters, no conflicts     86823\n",
       "no assertion criteria provided                           10115\n",
       "reviewed by expert panel                                  4742\n",
       "Name: count, dtype: int64"
      ]
     },
     "execution_count": 31,
     "metadata": {},
     "output_type": "execute_result"
    }
   ],
   "source": [
    "data_filter3.ReviewStatus.value_counts()"
   ]
  },
  {
   "cell_type": "code",
   "execution_count": 32,
   "metadata": {},
   "outputs": [],
   "source": [
    "data_filter3_1 = data_filter3[data_filter3['ReviewStatus'] != 'no assertion criteria provided'].reset_index(drop=True)"
   ]
  },
  {
   "cell_type": "code",
   "execution_count": 33,
   "metadata": {},
   "outputs": [
    {
     "data": {
      "text/plain": [
       "ReviewStatus\n",
       "criteria provided, single submitter                     176317\n",
       "criteria provided, multiple submitters, no conflicts     86823\n",
       "reviewed by expert panel                                  4742\n",
       "Name: count, dtype: int64"
      ]
     },
     "execution_count": 33,
     "metadata": {},
     "output_type": "execute_result"
    }
   ],
   "source": [
    "data_filter3_1.ReviewStatus.value_counts()"
   ]
  },
  {
   "cell_type": "code",
   "execution_count": 34,
   "metadata": {},
   "outputs": [
    {
     "data": {
      "text/plain": [
       "267882"
      ]
     },
     "execution_count": 34,
     "metadata": {},
     "output_type": "execute_result"
    }
   ],
   "source": [
    "len(data_filter3_1)"
   ]
  },
  {
   "cell_type": "markdown",
   "metadata": {},
   "source": [
    "##### --> Parse Chromosome column"
   ]
  },
  {
   "cell_type": "code",
   "execution_count": 35,
   "metadata": {},
   "outputs": [
    {
     "data": {
      "text/plain": [
       "array(['11', '6', '10', '16', '22', '15', '7', '1', '8', '21', '5', '19',\n",
       "       '4', '3', '17', '12', '20', '9', '18', '2', '14', '13', 'MT', 'Y',\n",
       "       'X', 'na', 1, 2, 3, 4, 5, 6, 7, 8, 9, 10, 11, 12, 13, 14, 15, 16,\n",
       "       17, 18, 19, 20, 21, 22, 'Un'], dtype=object)"
      ]
     },
     "execution_count": 35,
     "metadata": {},
     "output_type": "execute_result"
    }
   ],
   "source": [
    "data_filter3_1.Chromosome.unique()"
   ]
  },
  {
   "cell_type": "code",
   "execution_count": 36,
   "metadata": {},
   "outputs": [],
   "source": [
    "data_filter3_2=data_filter3_1[~data_filter3_1.Chromosome.isin(['na','Un'])].reset_index(drop=True)"
   ]
  },
  {
   "cell_type": "code",
   "execution_count": 37,
   "metadata": {},
   "outputs": [
    {
     "data": {
      "text/plain": [
       "267735"
      ]
     },
     "execution_count": 37,
     "metadata": {},
     "output_type": "execute_result"
    }
   ],
   "source": [
    "# after removing invalid or missing chromosome data\n",
    "len(data_filter3_2)"
   ]
  },
  {
   "cell_type": "code",
   "execution_count": 38,
   "metadata": {},
   "outputs": [
    {
     "data": {
      "text/plain": [
       "array(['11', '6', '10', '16', '22', '15', '7', '1', '8', '21', '5', '19',\n",
       "       '4', '3', '17', '12', '20', '9', '18', '2', '14', '13', 'MT', 'Y',\n",
       "       'X', 1, 2, 3, 4, 5, 6, 7, 8, 9, 10, 11, 12, 13, 14, 15, 16, 17, 18,\n",
       "       19, 20, 21, 22], dtype=object)"
      ]
     },
     "execution_count": 38,
     "metadata": {},
     "output_type": "execute_result"
    }
   ],
   "source": [
    "data_filter3_2.Chromosome.unique()"
   ]
  },
  {
   "cell_type": "code",
   "execution_count": 39,
   "metadata": {},
   "outputs": [
    {
     "data": {
      "text/plain": [
       "25"
      ]
     },
     "execution_count": 39,
     "metadata": {},
     "output_type": "execute_result"
    }
   ],
   "source": [
    "data_filter3_2['Chromosome'] = data_filter3_2['Chromosome'].astype(str)\n",
    "data_filter3_2['Chromosome'].nunique()"
   ]
  },
  {
   "cell_type": "code",
   "execution_count": 40,
   "metadata": {},
   "outputs": [
    {
     "data": {
      "text/plain": [
       "array(['11', '6', '10', '16', '22', '15', '7', '1', '8', '21', '5', '19',\n",
       "       '4', '3', '17', '12', '20', '9', '18', '2', '14', '13', 'MT', 'Y',\n",
       "       'X'], dtype=object)"
      ]
     },
     "execution_count": 40,
     "metadata": {},
     "output_type": "execute_result"
    }
   ],
   "source": [
    "data_filter3_2['Chromosome'].unique()"
   ]
  },
  {
   "cell_type": "markdown",
   "metadata": {},
   "source": [
    "Now the 'Chromosome' column contains the expected chromosome identifiers:\n",
    "- autosomes (1-22)\n",
    "- sex chromosomes (X, Y)\n",
    "- mitochondrial DNA (MT)"
   ]
  },
  {
   "cell_type": "markdown",
   "metadata": {},
   "source": [
    "### 4. Keep variants with AF<0.01 in the gnomAD v.2.1.\n",
    "\n",
    "At this point, we need to pass the data through VEP in order to get gnomAD information.\n",
    "\n",
    "But first, the __assembly issue__ must be taken into account."
   ]
  },
  {
   "cell_type": "code",
   "execution_count": 97,
   "metadata": {},
   "outputs": [
    {
     "data": {
      "text/plain": [
       "array(['GRCh38', 'GRCh37'], dtype=object)"
      ]
     },
     "execution_count": 97,
     "metadata": {},
     "output_type": "execute_result"
    }
   ],
   "source": [
    "data_filter3_2.Assembly.unique()"
   ]
  },
  {
   "cell_type": "code",
   "execution_count": 42,
   "metadata": {},
   "outputs": [
    {
     "data": {
      "text/plain": [
       "Assembly\n",
       "GRCh37    133870\n",
       "GRCh38    133865\n",
       "Name: count, dtype: int64"
      ]
     },
     "execution_count": 42,
     "metadata": {},
     "output_type": "execute_result"
    }
   ],
   "source": [
    "data_filter3_2 = data_filter3_2.sort_values(by='Assembly', ascending=False).reset_index(drop=True)\n",
    "data_filter3_2.Assembly.value_counts()"
   ]
  },
  {
   "cell_type": "markdown",
   "metadata": {},
   "source": [
    "Here, we notice that several variants have the same Allele ID and the only difference is the Assembly. \n",
    "\n",
    "Thus, we make sure this is the case and then, drop duplicates."
   ]
  },
  {
   "cell_type": "code",
   "execution_count": 43,
   "metadata": {},
   "outputs": [],
   "source": [
    "# Function to identify Allele ID groups with inconsistent data\n",
    "def check_duplicates(df):\n",
    "    cols_to_check=['#AlleleID', 'Type', 'Name', 'GeneID', 'GeneSymbol', 'HGNC_ID',\n",
    "       'ClinicalSignificance', 'ClinSigSimple', 'LastEvaluated', 'RS# (dbSNP)',\n",
    "       'nsv/esv (dbVar)', 'RCVaccession', 'PhenotypeIDS', 'PhenotypeList',\n",
    "       'Origin', 'OriginSimple', 'Cytogenetic', 'ReviewStatus', \n",
    "       'NumberSubmitters', 'Guidelines', 'TestedInGTR', 'OtherIDs', \n",
    "       'SubmitterCategories', 'VariationID', 'Variant (3-letter)', 'Variant']\n",
    "\n",
    "    grouped = df.groupby('#AlleleID')\n",
    "    \n",
    "    # find groups where any column (except Assembly) has different values\n",
    "    different_values = {}\n",
    "    for name, group in grouped:\n",
    "        if len(group) > 1:  # only check groups with multiple variants\n",
    "            for col in cols_to_check:\n",
    "                unique_values = group[col].nunique()\n",
    "                if unique_values > 1:\n",
    "                    if name not in different_values:\n",
    "                        different_values[name] = []\n",
    "                    different_values[name].append(col)\n",
    "\n",
    "    if different_values:\n",
    "        print(\"Found AlleleIDs with different values in columns other than Assembly:\")\n",
    "        for allele_id, columns in different_values.items():\n",
    "            print(f\"\\nAlleleID {allele_id} has different values in columns: {columns}\")\n",
    "    else:\n",
    "        print(\"All rows with the same #AlleleID have identical values (except possibly Assembly)\")\n",
    "\n",
    "    return df['#AlleleID'].duplicated().sum()"
   ]
  },
  {
   "cell_type": "code",
   "execution_count": 44,
   "metadata": {},
   "outputs": [
    {
     "name": "stdout",
     "output_type": "stream",
     "text": [
      "All rows with the same #AlleleID have identical values (except possibly Assembly)\n"
     ]
    }
   ],
   "source": [
    "total_duplicates= check_duplicates(data_filter3_2)"
   ]
  },
  {
   "cell_type": "code",
   "execution_count": 98,
   "metadata": {},
   "outputs": [
    {
     "data": {
      "text/plain": [
       "Assembly\n",
       "GRCh38    133845\n",
       "GRCh37        10\n",
       "Name: count, dtype: int64"
      ]
     },
     "execution_count": 98,
     "metadata": {},
     "output_type": "execute_result"
    }
   ],
   "source": [
    "data_filter4 = data_filter3_2.drop_duplicates(subset=['#AlleleID'],keep='first')\n",
    "data_filter4.Assembly.value_counts()"
   ]
  },
  {
   "cell_type": "markdown",
   "metadata": {},
   "source": [
    "Next, we must separate data by Assembly before using VEP. \n",
    "\n",
    "This is done because coordinates info should __not__ be mixed."
   ]
  },
  {
   "cell_type": "code",
   "execution_count": 46,
   "metadata": {},
   "outputs": [],
   "source": [
    "for assembly in ['GRCh37', 'GRCh38']:\n",
    "    file = data_filter4[data_filter4['Assembly'] == assembly].copy()\n",
    "    file.to_csv(f'../data/clinvar/clinvar_data_preVEP_{assembly.lower()}.csv', index=0)"
   ]
  },
  {
   "cell_type": "markdown",
   "metadata": {},
   "source": [
    "VEP input must be in VCF format, thus the following function."
   ]
  },
  {
   "cell_type": "code",
   "execution_count": 47,
   "metadata": {},
   "outputs": [],
   "source": [
    "def create_vcf(df, outputfile):\n",
    "    # necessary columns for VCF format\n",
    "    vcf_columns = [\n",
    "        'Chromosome',\n",
    "        'PositionVCF',\n",
    "        'RS# (dbSNP)',\n",
    "        'ReferenceAlleleVCF',\n",
    "        'AlternateAlleleVCF'\n",
    "    ]\n",
    "\n",
    "    vcf_df = df[vcf_columns].copy()\n",
    "    vcf_df['Chromosome'] = vcf_df['Chromosome'].astype(str)\n",
    "    vcf_df['Chromosome'] = vcf_df['Chromosome'].str.replace('chr', '', case=False)\n",
    "\n",
    "    chrom_order = ([str(i) for i in range(1, 23)] + ['X', 'Y', 'MT'])\n",
    "\n",
    "    vcf_df['Chromosome'] = pd.Categorical(vcf_df['Chromosome'], categories=chrom_order, ordered=True)\n",
    "    vcf_df['PositionVCF'] = pd.to_numeric(vcf_df['PositionVCF'])\n",
    "    vcf_df = vcf_df.sort_values(['Chromosome', 'PositionVCF'])\n",
    "    \n",
    "    # add remaining required VCF columns\n",
    "    vcf_df['ID'] = vcf_df['RS# (dbSNP)'].fillna('.')\n",
    "    vcf_df['QUAL'] = '.'  \n",
    "    vcf_df['FILTER'] = '.'  \n",
    "    vcf_df['INFO'] = '.'  \n",
    "    \n",
    "    # reorder and rename columns to match VCF format\n",
    "    vcf_df = vcf_df[['Chromosome', 'PositionVCF', 'ID', 'ReferenceAlleleVCF', 'AlternateAlleleVCF', 'QUAL', 'FILTER', 'INFO']]\n",
    "    vcf_df.columns = ['#CHROM', 'POS', 'ID', 'REF', 'ALT', 'QUAL', 'FILTER', 'INFO']\n",
    "\n",
    "    vcf_df.to_csv(outputfile, sep='\\t', index=False)\n",
    "    print(f\"VCF file created at: {outputfile}\")"
   ]
  },
  {
   "cell_type": "markdown",
   "metadata": {},
   "source": [
    "After running VEP for the third filter criteria (gnomAD), we should rearrange the output and continue cleaning the dataset."
   ]
  },
  {
   "cell_type": "code",
   "execution_count": 48,
   "metadata": {},
   "outputs": [],
   "source": [
    "def parse_output(file_path):\n",
    "    with open(file_path, 'r') as file:\n",
    "        for i, line in enumerate(file):\n",
    "            if line.startswith(\"#Uploaded_variation\"):\n",
    "                header_line = i\n",
    "                break\n",
    "\n",
    "    df = pd.read_csv(file_path, delimiter='\\t', skiprows=header_line,low_memory=False)\n",
    "    #print(df.columns)\n",
    "    print('initial file length:', len(df))\n",
    "\n",
    "    # rename the first column (Uploaded_variation)\n",
    "    df.columns = df.columns.str.replace('#', '')\n",
    "    \n",
    "    df2= df[df.Protein_position != '-'].reset_index(drop=True).copy()\n",
    "\n",
    "    df_filtered = df2[df2['Amino_acids'].str.contains('/')]\n",
    "    df_filtered = df_filtered[~df_filtered['Amino_acids'].str.contains(r'\\*')]\n",
    "\n",
    "    # create Chromosome, PositionVCF, variant columns before merging with the original clinvar df\n",
    "    df_filtered[['Chromosome', 'PositionVCF_dashed']] = df_filtered['Location'].str.split(':', expand=True)\n",
    "    df_filtered['PositionVCF'] = df_filtered.apply(lambda x: x['PositionVCF_dashed'].split('-')[0], axis=1)\n",
    "    \n",
    "    df_filtered['PositionVCF'] = df_filtered['PositionVCF'].astype(int)\n",
    "    df_filtered['Variant'] = df_filtered.apply(lambda x: x['Amino_acids'].split('/')[0] + str(x['Protein_position']) + x['Amino_acids'].split('/')[1], axis=1)\n",
    "    \n",
    "    # the Allele column represents the alternate allele for a variant. \n",
    "    # the Reference allele is not explicitly listed here because VCF files generally only list \n",
    "        # the alternate allele (the variation from the reference genome). \n",
    "    # the Reference allele would typically be implied based on the genomic position and reference sequence.\n",
    "    \n",
    "    df_filtered['AlternateAlleleVCF'] = df_filtered['Allele']\n",
    "\n",
    "    df_filtered2 = df_filtered[df_filtered['Consequence'].str.contains('missense_variant', na=False)].copy()\n",
    "    \n",
    "    # duplicated lines, due to canonical + isoform. we drop duplicates based on \n",
    "    df_filtered3 = df_filtered2.drop_duplicates(subset=['Chromosome','PositionVCF','Allele','Gene','Feature_type','CDS_position','Protein_position','Variant'], keep='first')\n",
    "    df_filtered3['GeneSymbol'] = df_filtered3['Extra'].str.extract(r'SYMBOL=([^;]+)')\n",
    "    df_filtered3['HGNC_ID'] = df_filtered3['Extra'].str.extract(r'HGNC_ID=([^;]+)')\n",
    "    \n",
    "    print('final file length:',len(df_filtered3))\n",
    "    \n",
    "    return df_filtered3\n",
    "\n",
    "\n",
    "def merge_original_and_vepout(df1,df2):\n",
    "    df1['Chromosome'] = df1['Chromosome'].astype(str)\n",
    "    df2['Chromosome'] = df2['Chromosome'].astype(str)\n",
    "    df1=df1.reset_index(drop=True)\n",
    "    df2=df2.reset_index(drop=True)\n",
    "    merged_df = df1.merge(df2, on =['Chromosome','PositionVCF','AlternateAlleleVCF','Variant','GeneSymbol','HGNC_ID'], how='left')\n",
    "    return merged_df    "
   ]
  },
  {
   "cell_type": "markdown",
   "metadata": {},
   "source": [
    "First, for GRCh38:"
   ]
  },
  {
   "cell_type": "code",
   "execution_count": 49,
   "metadata": {},
   "outputs": [
    {
     "name": "stdout",
     "output_type": "stream",
     "text": [
      "VCF file created at: ../data/clinvar/clinvar_data_inputVEP_grch38.vcf\n"
     ]
    }
   ],
   "source": [
    "data_grch38 = pd.read_csv('../data/clinvar/clinvar_data_preVEP_grch38.csv')\n",
    "create_vcf(data_grch38, '../data/clinvar/clinvar_data_inputVEP_grch38.vcf')"
   ]
  },
  {
   "cell_type": "markdown",
   "metadata": {},
   "source": [
    "To run VEP, the following command was executed:\n"
   ]
  },
  {
   "cell_type": "code",
   "execution_count": 50,
   "metadata": {
    "vscode": {
     "languageId": "shellscript"
    }
   },
   "outputs": [],
   "source": [
    "#  ./vep -i clinvar_data_inputVEP_grch38.vcf -o clinvar_data_outputVEP_grch38.txt --offline \\\n",
    "#      --assembly GRCh38 \\\n",
    "#      --symbol --transcript_version --ccds --protein --uniprot \\\n",
    "#      --hgvs --fasta Homo_sapiens.GRCh38.dna.primary_assembly.fa.gz \\\n",
    "#      --af --af_1kg --af_gnomade --af_gnomadg --max_af"
   ]
  },
  {
   "cell_type": "code",
   "execution_count": 51,
   "metadata": {},
   "outputs": [
    {
     "name": "stdout",
     "output_type": "stream",
     "text": [
      "initial file length: 1613017\n",
      "final file length: 339455\n"
     ]
    },
    {
     "data": {
      "text/plain": [
       "True"
      ]
     },
     "execution_count": 51,
     "metadata": {},
     "output_type": "execute_result"
    }
   ],
   "source": [
    "output_grch38 = \"../data/clinvar/clinvar_data_outputVEP_grch38.txt\"\n",
    "df = parse_output(output_grch38)\n",
    "\n",
    "data_filter4_1_grch38 = merge_original_and_vepout(data_grch38, df)\n",
    "\n",
    "# same rows, but more columns after merging\n",
    "len(data_filter4_1_grch38) == len(data_grch38)"
   ]
  },
  {
   "cell_type": "code",
   "execution_count": 52,
   "metadata": {},
   "outputs": [
    {
     "data": {
      "text/plain": [
       "array(['missense_variant', nan, 'missense_variant,splice_region_variant',\n",
       "       'missense_variant,NMD_transcript_variant',\n",
       "       'missense_variant,splice_region_variant,NMD_transcript_variant'],\n",
       "      dtype=object)"
      ]
     },
     "execution_count": 52,
     "metadata": {},
     "output_type": "execute_result"
    }
   ],
   "source": [
    "data_filter4_1_grch38.Consequence.unique()"
   ]
  },
  {
   "cell_type": "code",
   "execution_count": 53,
   "metadata": {},
   "outputs": [
    {
     "data": {
      "text/html": [
       "<div>\n",
       "<style scoped>\n",
       "    .dataframe tbody tr th:only-of-type {\n",
       "        vertical-align: middle;\n",
       "    }\n",
       "\n",
       "    .dataframe tbody tr th {\n",
       "        vertical-align: top;\n",
       "    }\n",
       "\n",
       "    .dataframe thead th {\n",
       "        text-align: right;\n",
       "    }\n",
       "</style>\n",
       "<table border=\"1\" class=\"dataframe\">\n",
       "  <thead>\n",
       "    <tr style=\"text-align: right;\">\n",
       "      <th></th>\n",
       "      <th>gnomADe_AF</th>\n",
       "      <th>gnomADg_AF</th>\n",
       "    </tr>\n",
       "  </thead>\n",
       "  <tbody>\n",
       "    <tr>\n",
       "      <th>0</th>\n",
       "      <td>0.001133</td>\n",
       "      <td>0.0009133</td>\n",
       "    </tr>\n",
       "    <tr>\n",
       "      <th>1</th>\n",
       "      <td>NaN</td>\n",
       "      <td>NaN</td>\n",
       "    </tr>\n",
       "    <tr>\n",
       "      <th>2</th>\n",
       "      <td>NaN</td>\n",
       "      <td>NaN</td>\n",
       "    </tr>\n",
       "    <tr>\n",
       "      <th>3</th>\n",
       "      <td>NaN</td>\n",
       "      <td>NaN</td>\n",
       "    </tr>\n",
       "    <tr>\n",
       "      <th>4</th>\n",
       "      <td>NaN</td>\n",
       "      <td>NaN</td>\n",
       "    </tr>\n",
       "    <tr>\n",
       "      <th>...</th>\n",
       "      <td>...</td>\n",
       "      <td>...</td>\n",
       "    </tr>\n",
       "    <tr>\n",
       "      <th>133840</th>\n",
       "      <td>0.02981</td>\n",
       "      <td>0.01941</td>\n",
       "    </tr>\n",
       "    <tr>\n",
       "      <th>133841</th>\n",
       "      <td>0.0003079</td>\n",
       "      <td>0.002903</td>\n",
       "    </tr>\n",
       "    <tr>\n",
       "      <th>133842</th>\n",
       "      <td>0.0003872</td>\n",
       "      <td>0.0001838</td>\n",
       "    </tr>\n",
       "    <tr>\n",
       "      <th>133843</th>\n",
       "      <td>NaN</td>\n",
       "      <td>NaN</td>\n",
       "    </tr>\n",
       "    <tr>\n",
       "      <th>133844</th>\n",
       "      <td>0.001807</td>\n",
       "      <td>0.002594</td>\n",
       "    </tr>\n",
       "  </tbody>\n",
       "</table>\n",
       "<p>133845 rows × 2 columns</p>\n",
       "</div>"
      ],
      "text/plain": [
       "       gnomADe_AF gnomADg_AF\n",
       "0        0.001133  0.0009133\n",
       "1             NaN        NaN\n",
       "2             NaN        NaN\n",
       "3             NaN        NaN\n",
       "4             NaN        NaN\n",
       "...           ...        ...\n",
       "133840    0.02981    0.01941\n",
       "133841  0.0003079   0.002903\n",
       "133842  0.0003872  0.0001838\n",
       "133843        NaN        NaN\n",
       "133844   0.001807   0.002594\n",
       "\n",
       "[133845 rows x 2 columns]"
      ]
     },
     "execution_count": 53,
     "metadata": {},
     "output_type": "execute_result"
    }
   ],
   "source": [
    "data_filter4_1_grch38['gnomADe_AF'] = data_filter4_1_grch38['Extra'].str.extract(r'gnomADe_AF=([^;]+)')\n",
    "data_filter4_1_grch38['gnomADg_AF'] = data_filter4_1_grch38['Extra'].str.extract(r'gnomADg_AF=([^;]+)')\n",
    "\n",
    "data_filter4_1_grch38[['gnomADe_AF','gnomADg_AF']]"
   ]
  },
  {
   "cell_type": "code",
   "execution_count": 54,
   "metadata": {},
   "outputs": [
    {
     "data": {
      "text/plain": [
       "101504"
      ]
     },
     "execution_count": 54,
     "metadata": {},
     "output_type": "execute_result"
    }
   ],
   "source": [
    "len(data_filter4_1_grch38[data_filter4_1_grch38.gnomADe_AF.notna()])"
   ]
  },
  {
   "cell_type": "markdown",
   "metadata": {},
   "source": [
    "Then, for GRCh37:"
   ]
  },
  {
   "cell_type": "code",
   "execution_count": 55,
   "metadata": {},
   "outputs": [
    {
     "name": "stdout",
     "output_type": "stream",
     "text": [
      "VCF file created at: ../data/clinvar/clinvar_data_inputVEP_grch37.vcf\n"
     ]
    }
   ],
   "source": [
    "data_grch37 = pd.read_csv('../data/clinvar/clinvar_data_preVEP_grch37.csv')\n",
    "create_vcf(data_grch37, '../data/clinvar/clinvar_data_inputVEP_grch37.vcf')"
   ]
  },
  {
   "cell_type": "markdown",
   "metadata": {},
   "source": [
    "To run VEP, the following command was executed:\n"
   ]
  },
  {
   "cell_type": "code",
   "execution_count": 56,
   "metadata": {
    "vscode": {
     "languageId": "shellscript"
    }
   },
   "outputs": [],
   "source": [
    "#  ./vep -i clinvar_data_inputVEP_grch37.vcf -o clinvar_data_outputVEP_grch37.txt --offline \\\n",
    "#      --assembly GRCh37 \\\n",
    "#      --symbol --transcript_version --ccds --protein --uniprot \\\n",
    "#      --hgvs --fasta Homo_sapiens.GRCh38.dna.primary_assembly.fa.gz \\\n",
    "#      --af --af_1kg --af_gnomade --af_gnomadg --max_af"
   ]
  },
  {
   "cell_type": "code",
   "execution_count": 57,
   "metadata": {},
   "outputs": [
    {
     "name": "stdout",
     "output_type": "stream",
     "text": [
      "initial file length: 20\n",
      "final file length: 12\n"
     ]
    },
    {
     "data": {
      "text/plain": [
       "True"
      ]
     },
     "execution_count": 57,
     "metadata": {},
     "output_type": "execute_result"
    }
   ],
   "source": [
    "output_grch37 = \"../data/clinvar/clinvar_data_outputVEP_grch37.txt\"\n",
    "df = parse_output(output_grch37)\n",
    "df['HGNC_ID'] = df['HGNC_ID'].apply(lambda x: 'HGNC:' + str(x) if pd.notna(x) else x)\n",
    "\n",
    "data_filter4_1_grch37 = merge_original_and_vepout(data_grch37, df)\n",
    "\n",
    "# same rows, but more columns after merging\n",
    "len(data_filter4_1_grch37) == len(data_grch37)"
   ]
  },
  {
   "cell_type": "code",
   "execution_count": 58,
   "metadata": {},
   "outputs": [
    {
     "data": {
      "text/plain": [
       "array(['missense_variant'], dtype=object)"
      ]
     },
     "execution_count": 58,
     "metadata": {},
     "output_type": "execute_result"
    }
   ],
   "source": [
    "data_filter4_1_grch37.Consequence.unique()"
   ]
  },
  {
   "cell_type": "code",
   "execution_count": 59,
   "metadata": {},
   "outputs": [
    {
     "data": {
      "text/plain": [
       "10"
      ]
     },
     "execution_count": 59,
     "metadata": {},
     "output_type": "execute_result"
    }
   ],
   "source": [
    "data_filter4_1_grch37['gnomADe_AF'] = data_filter4_1_grch37['Extra'].str.extract(r'gnomADe_AF=([^;]+)')\n",
    "\n",
    "len(data_filter4_1_grch37[data_filter4_1_grch37.gnomADe_AF.notna()])"
   ]
  },
  {
   "cell_type": "markdown",
   "metadata": {},
   "source": [
    "Finally, we can merge again GRCh37 and GRCh38 files"
   ]
  },
  {
   "cell_type": "code",
   "execution_count": 60,
   "metadata": {},
   "outputs": [
    {
     "data": {
      "text/plain": [
       "48"
      ]
     },
     "execution_count": 60,
     "metadata": {},
     "output_type": "execute_result"
    }
   ],
   "source": [
    "# cols to mantain, from original dataset\n",
    "cols = ['#AlleleID', 'Type', 'Name', 'GeneID', 'GeneSymbol', 'HGNC_ID', \n",
    "        'ClinicalSignificance', 'ClinSigSimple', 'RS# (dbSNP)', 'nsv/esv (dbVar)', \n",
    "        'RCVaccession', 'PhenotypeIDS', 'PhenotypeList', 'Origin', 'OriginSimple', \n",
    "        'Assembly', 'ChromosomeAccession', 'Chromosome', 'Start', 'Stop', 'Cytogenetic', \n",
    "        'ReviewStatus', 'NumberSubmitters', 'OtherIDs', 'SubmitterCategories', \n",
    "        'VariationID', 'PositionVCF', 'ReferenceAlleleVCF', 'AlternateAlleleVCF', \n",
    "        'Variant (3-letter)', 'Variant', 'LastEvaluated (Year)']\n",
    "\n",
    "# cols to add, after obtaining gnomAD info\n",
    "cols_to_take = ['Uploaded_variation', 'Location', 'Allele', 'Gene', 'Feature', \n",
    "                'Feature_type', 'Consequence', 'cDNA_position', 'CDS_position', \n",
    "                'Protein_position', 'Amino_acids', 'Codons', 'Existing_variation', \n",
    "                'Extra', 'PositionVCF_dashed', 'gnomADe_AF']\n",
    "\n",
    "for col in cols_to_take:\n",
    "    cols.append(col)\n",
    "\n",
    "len(cols)"
   ]
  },
  {
   "cell_type": "code",
   "execution_count": 61,
   "metadata": {},
   "outputs": [
    {
     "data": {
      "text/html": [
       "<div>\n",
       "<style scoped>\n",
       "    .dataframe tbody tr th:only-of-type {\n",
       "        vertical-align: middle;\n",
       "    }\n",
       "\n",
       "    .dataframe tbody tr th {\n",
       "        vertical-align: top;\n",
       "    }\n",
       "\n",
       "    .dataframe thead th {\n",
       "        text-align: right;\n",
       "    }\n",
       "</style>\n",
       "<table border=\"1\" class=\"dataframe\">\n",
       "  <thead>\n",
       "    <tr style=\"text-align: right;\">\n",
       "      <th></th>\n",
       "      <th>#AlleleID</th>\n",
       "      <th>Type</th>\n",
       "      <th>Name</th>\n",
       "      <th>GeneID</th>\n",
       "      <th>GeneSymbol</th>\n",
       "      <th>HGNC_ID</th>\n",
       "      <th>ClinicalSignificance</th>\n",
       "      <th>ClinSigSimple</th>\n",
       "      <th>RS# (dbSNP)</th>\n",
       "      <th>nsv/esv (dbVar)</th>\n",
       "      <th>...</th>\n",
       "      <th>Consequence</th>\n",
       "      <th>cDNA_position</th>\n",
       "      <th>CDS_position</th>\n",
       "      <th>Protein_position</th>\n",
       "      <th>Amino_acids</th>\n",
       "      <th>Codons</th>\n",
       "      <th>Existing_variation</th>\n",
       "      <th>Extra</th>\n",
       "      <th>PositionVCF_dashed</th>\n",
       "      <th>gnomADe_AF</th>\n",
       "    </tr>\n",
       "  </thead>\n",
       "  <tbody>\n",
       "    <tr>\n",
       "      <th>0</th>\n",
       "      <td>1809239</td>\n",
       "      <td>single nucleotide variant</td>\n",
       "      <td>NM_001386125.1(OBSCN):c.496G&gt;A (p.Ala166Thr)</td>\n",
       "      <td>84033</td>\n",
       "      <td>OBSCN</td>\n",
       "      <td>HGNC:15719</td>\n",
       "      <td>Benign/Likely benign</td>\n",
       "      <td>0</td>\n",
       "      <td>-1</td>\n",
       "      <td>-</td>\n",
       "      <td>...</td>\n",
       "      <td>missense_variant</td>\n",
       "      <td>637</td>\n",
       "      <td>496</td>\n",
       "      <td>166</td>\n",
       "      <td>A/T</td>\n",
       "      <td>Gca/Aca</td>\n",
       "      <td>rs555146765</td>\n",
       "      <td>IMPACT=MODERATE;STRAND=1;SYMBOL=OBSCN;SYMBOL_S...</td>\n",
       "      <td>228212279</td>\n",
       "      <td>0.001133</td>\n",
       "    </tr>\n",
       "    <tr>\n",
       "      <th>1</th>\n",
       "      <td>2059503</td>\n",
       "      <td>single nucleotide variant</td>\n",
       "      <td>NM_001205293.3(CACNA1E):c.3965C&gt;T (p.Ser1322Phe)</td>\n",
       "      <td>777</td>\n",
       "      <td>CACNA1E</td>\n",
       "      <td>HGNC:1392</td>\n",
       "      <td>Likely benign</td>\n",
       "      <td>0</td>\n",
       "      <td>-1</td>\n",
       "      <td>-</td>\n",
       "      <td>...</td>\n",
       "      <td>missense_variant</td>\n",
       "      <td>4856</td>\n",
       "      <td>3965</td>\n",
       "      <td>1322</td>\n",
       "      <td>S/F</td>\n",
       "      <td>tCc/tTc</td>\n",
       "      <td>COSV62407041</td>\n",
       "      <td>IMPACT=MODERATE;STRAND=1;SYMBOL=CACNA1E;SYMBOL...</td>\n",
       "      <td>181755373</td>\n",
       "      <td>NaN</td>\n",
       "    </tr>\n",
       "    <tr>\n",
       "      <th>2</th>\n",
       "      <td>2058909</td>\n",
       "      <td>single nucleotide variant</td>\n",
       "      <td>NM_002397.5(MEF2C):c.439A&gt;G (p.Ile147Val)</td>\n",
       "      <td>4208</td>\n",
       "      <td>MEF2C</td>\n",
       "      <td>HGNC:6996</td>\n",
       "      <td>Benign</td>\n",
       "      <td>0</td>\n",
       "      <td>-1</td>\n",
       "      <td>-</td>\n",
       "      <td>...</td>\n",
       "      <td>missense_variant</td>\n",
       "      <td>1090</td>\n",
       "      <td>439</td>\n",
       "      <td>147</td>\n",
       "      <td>I/V</td>\n",
       "      <td>Atc/Gtc</td>\n",
       "      <td>-</td>\n",
       "      <td>IMPACT=MODERATE;STRAND=-1;SYMBOL=MEF2C;SYMBOL_...</td>\n",
       "      <td>88752007</td>\n",
       "      <td>NaN</td>\n",
       "    </tr>\n",
       "    <tr>\n",
       "      <th>3</th>\n",
       "      <td>2058962</td>\n",
       "      <td>single nucleotide variant</td>\n",
       "      <td>NM_152296.5(ATP1A3):c.281T&gt;C (p.Leu94Pro)</td>\n",
       "      <td>478</td>\n",
       "      <td>ATP1A3</td>\n",
       "      <td>HGNC:801</td>\n",
       "      <td>Pathogenic</td>\n",
       "      <td>1</td>\n",
       "      <td>-1</td>\n",
       "      <td>-</td>\n",
       "      <td>...</td>\n",
       "      <td>missense_variant</td>\n",
       "      <td>419</td>\n",
       "      <td>281</td>\n",
       "      <td>94</td>\n",
       "      <td>L/P</td>\n",
       "      <td>cTg/cCg</td>\n",
       "      <td>-</td>\n",
       "      <td>IMPACT=MODERATE;STRAND=-1;SYMBOL=ATP1A3;SYMBOL...</td>\n",
       "      <td>41988012</td>\n",
       "      <td>NaN</td>\n",
       "    </tr>\n",
       "    <tr>\n",
       "      <th>4</th>\n",
       "      <td>2059150</td>\n",
       "      <td>single nucleotide variant</td>\n",
       "      <td>NM_001100.4(ACTA1):c.794A&gt;G (p.Gln265Arg)</td>\n",
       "      <td>58</td>\n",
       "      <td>ACTA1</td>\n",
       "      <td>HGNC:129</td>\n",
       "      <td>Pathogenic</td>\n",
       "      <td>1</td>\n",
       "      <td>-1</td>\n",
       "      <td>-</td>\n",
       "      <td>...</td>\n",
       "      <td>missense_variant</td>\n",
       "      <td>907</td>\n",
       "      <td>794</td>\n",
       "      <td>265</td>\n",
       "      <td>Q/R</td>\n",
       "      <td>cAg/cGg</td>\n",
       "      <td>CM992127</td>\n",
       "      <td>IMPACT=MODERATE;STRAND=-1;SYMBOL=ACTA1;SYMBOL_...</td>\n",
       "      <td>229432008</td>\n",
       "      <td>NaN</td>\n",
       "    </tr>\n",
       "  </tbody>\n",
       "</table>\n",
       "<p>5 rows × 48 columns</p>\n",
       "</div>"
      ],
      "text/plain": [
       "   #AlleleID                       Type  \\\n",
       "0    1809239  single nucleotide variant   \n",
       "1    2059503  single nucleotide variant   \n",
       "2    2058909  single nucleotide variant   \n",
       "3    2058962  single nucleotide variant   \n",
       "4    2059150  single nucleotide variant   \n",
       "\n",
       "                                               Name  GeneID GeneSymbol  \\\n",
       "0      NM_001386125.1(OBSCN):c.496G>A (p.Ala166Thr)   84033      OBSCN   \n",
       "1  NM_001205293.3(CACNA1E):c.3965C>T (p.Ser1322Phe)     777    CACNA1E   \n",
       "2         NM_002397.5(MEF2C):c.439A>G (p.Ile147Val)    4208      MEF2C   \n",
       "3         NM_152296.5(ATP1A3):c.281T>C (p.Leu94Pro)     478     ATP1A3   \n",
       "4         NM_001100.4(ACTA1):c.794A>G (p.Gln265Arg)      58      ACTA1   \n",
       "\n",
       "      HGNC_ID  ClinicalSignificance  ClinSigSimple  RS# (dbSNP)  \\\n",
       "0  HGNC:15719  Benign/Likely benign              0           -1   \n",
       "1   HGNC:1392         Likely benign              0           -1   \n",
       "2   HGNC:6996                Benign              0           -1   \n",
       "3    HGNC:801            Pathogenic              1           -1   \n",
       "4    HGNC:129            Pathogenic              1           -1   \n",
       "\n",
       "  nsv/esv (dbVar)  ...       Consequence cDNA_position CDS_position  \\\n",
       "0               -  ...  missense_variant           637          496   \n",
       "1               -  ...  missense_variant          4856         3965   \n",
       "2               -  ...  missense_variant          1090          439   \n",
       "3               -  ...  missense_variant           419          281   \n",
       "4               -  ...  missense_variant           907          794   \n",
       "\n",
       "  Protein_position Amino_acids   Codons Existing_variation  \\\n",
       "0              166         A/T  Gca/Aca        rs555146765   \n",
       "1             1322         S/F  tCc/tTc       COSV62407041   \n",
       "2              147         I/V  Atc/Gtc                  -   \n",
       "3               94         L/P  cTg/cCg                  -   \n",
       "4              265         Q/R  cAg/cGg           CM992127   \n",
       "\n",
       "                                               Extra  PositionVCF_dashed  \\\n",
       "0  IMPACT=MODERATE;STRAND=1;SYMBOL=OBSCN;SYMBOL_S...           228212279   \n",
       "1  IMPACT=MODERATE;STRAND=1;SYMBOL=CACNA1E;SYMBOL...           181755373   \n",
       "2  IMPACT=MODERATE;STRAND=-1;SYMBOL=MEF2C;SYMBOL_...            88752007   \n",
       "3  IMPACT=MODERATE;STRAND=-1;SYMBOL=ATP1A3;SYMBOL...            41988012   \n",
       "4  IMPACT=MODERATE;STRAND=-1;SYMBOL=ACTA1;SYMBOL_...           229432008   \n",
       "\n",
       "   gnomADe_AF  \n",
       "0    0.001133  \n",
       "1         NaN  \n",
       "2         NaN  \n",
       "3         NaN  \n",
       "4         NaN  \n",
       "\n",
       "[5 rows x 48 columns]"
      ]
     },
     "execution_count": 61,
     "metadata": {},
     "output_type": "execute_result"
    }
   ],
   "source": [
    "data_filter4_2 = pd.concat([data_filter4_1_grch38,data_filter4_1_grch37])\n",
    "data_filter4_2 = data_filter4_2[cols]\n",
    "len(data_filter4_2)\n",
    "data_filter4_2.head()"
   ]
  },
  {
   "cell_type": "code",
   "execution_count": 62,
   "metadata": {},
   "outputs": [
    {
     "data": {
      "text/plain": [
       "1619"
      ]
     },
     "execution_count": 62,
     "metadata": {},
     "output_type": "execute_result"
    }
   ],
   "source": [
    "len(data_filter4_2[data_filter4_2.Consequence.isna()])"
   ]
  },
  {
   "cell_type": "code",
   "execution_count": 63,
   "metadata": {},
   "outputs": [
    {
     "data": {
      "text/plain": [
       "Consequence\n",
       "missense_variant                                                 127328\n",
       "missense_variant,splice_region_variant                             3742\n",
       "missense_variant,NMD_transcript_variant                            1120\n",
       "missense_variant,splice_region_variant,NMD_transcript_variant        46\n",
       "Name: count, dtype: int64"
      ]
     },
     "execution_count": 63,
     "metadata": {},
     "output_type": "execute_result"
    }
   ],
   "source": [
    "data_filter4_2.Consequence.value_counts()"
   ]
  },
  {
   "cell_type": "code",
   "execution_count": 64,
   "metadata": {},
   "outputs": [
    {
     "data": {
      "text/plain": [
       "True"
      ]
     },
     "execution_count": 64,
     "metadata": {},
     "output_type": "execute_result"
    }
   ],
   "source": [
    "# data_filter4 is the cleaned dataset before splitting by Assembly\n",
    "# data_filter4_2 is the cleaned dataset after splitting, running VEP and merging again\n",
    "len(data_filter4_2)==len(data_filter4)"
   ]
  },
  {
   "cell_type": "code",
   "execution_count": 99,
   "metadata": {},
   "outputs": [
    {
     "data": {
      "text/plain": [
       "array(['GRCh38', 'GRCh37'], dtype=object)"
      ]
     },
     "execution_count": 99,
     "metadata": {},
     "output_type": "execute_result"
    }
   ],
   "source": [
    "data_filter4_2.Assembly.unique()"
   ]
  },
  {
   "cell_type": "code",
   "execution_count": 66,
   "metadata": {},
   "outputs": [
    {
     "data": {
      "text/html": [
       "<div>\n",
       "<style scoped>\n",
       "    .dataframe tbody tr th:only-of-type {\n",
       "        vertical-align: middle;\n",
       "    }\n",
       "\n",
       "    .dataframe tbody tr th {\n",
       "        vertical-align: top;\n",
       "    }\n",
       "\n",
       "    .dataframe thead th {\n",
       "        text-align: right;\n",
       "    }\n",
       "</style>\n",
       "<table border=\"1\" class=\"dataframe\">\n",
       "  <thead>\n",
       "    <tr style=\"text-align: right;\">\n",
       "      <th></th>\n",
       "      <th>gnomADe_AF</th>\n",
       "      <th>gnomADg_AF</th>\n",
       "    </tr>\n",
       "  </thead>\n",
       "  <tbody>\n",
       "    <tr>\n",
       "      <th>0</th>\n",
       "      <td>0.001133</td>\n",
       "      <td>0.0009133</td>\n",
       "    </tr>\n",
       "    <tr>\n",
       "      <th>1</th>\n",
       "      <td>NaN</td>\n",
       "      <td>NaN</td>\n",
       "    </tr>\n",
       "    <tr>\n",
       "      <th>2</th>\n",
       "      <td>NaN</td>\n",
       "      <td>NaN</td>\n",
       "    </tr>\n",
       "    <tr>\n",
       "      <th>3</th>\n",
       "      <td>NaN</td>\n",
       "      <td>NaN</td>\n",
       "    </tr>\n",
       "    <tr>\n",
       "      <th>4</th>\n",
       "      <td>NaN</td>\n",
       "      <td>NaN</td>\n",
       "    </tr>\n",
       "  </tbody>\n",
       "</table>\n",
       "</div>"
      ],
      "text/plain": [
       "  gnomADe_AF gnomADg_AF\n",
       "0   0.001133  0.0009133\n",
       "1        NaN        NaN\n",
       "2        NaN        NaN\n",
       "3        NaN        NaN\n",
       "4        NaN        NaN"
      ]
     },
     "execution_count": 66,
     "metadata": {},
     "output_type": "execute_result"
    }
   ],
   "source": [
    "data_filter4_2['gnomADe_AF'] = data_filter4_2['Extra'].str.extract(r'gnomADe_AF=([^;]+)')\n",
    "data_filter4_2['gnomADg_AF'] = data_filter4_2['Extra'].str.extract(r'gnomADg_AF=([^;]+)')\n",
    "\n",
    "data_filter4_2[['gnomADe_AF','gnomADg_AF']].head()"
   ]
  },
  {
   "cell_type": "markdown",
   "metadata": {},
   "source": [
    "The columns 'gnomADe_AF' and 'gnomADg_AF' represent the AFs of the variant \n",
    "in the gnomAD Exomes (gnomADe_AF) and gnomAD Genomes (gnomADg_AF) datasets, respectively. \n",
    "\n",
    "The new column 'gnomAD_AF' combines these frequencies, prioritizing Exomes (gnomADe_AF) \n",
    "and using Genomes (gnomADg_AF) when Exomes data is missing. \n",
    "\n",
    "The final filtering step selects rare variants with a combined gnomAD_AF < 0.01.\n",
    "\n",
    "With this we make sure we have a frequency value for every variant"
   ]
  },
  {
   "cell_type": "code",
   "execution_count": 67,
   "metadata": {},
   "outputs": [],
   "source": [
    "data_filter4_2['gnomADe_AF'] = pd.to_numeric(data_filter4_2['gnomADe_AF'], errors='coerce')\n",
    "data_filter4_2['gnomADg_AF'] = pd.to_numeric(data_filter4_2['gnomADg_AF'], errors='coerce')\n",
    "\n",
    "# new column 'gnomAD_AF' that fills missing exomes AF with genomes AF\n",
    "data_filter4_2['gnomAD_AF'] = data_filter4_2['gnomADe_AF'].fillna(data_filter4_2['gnomADg_AF'])\n",
    "\n",
    "# filter for variants where gnomAD_AF < 0.01 and drop variants where gnomAD_AF is NaN\n",
    "data_filter4_3 = data_filter4_2[data_filter4_2['gnomAD_AF'] < 0.01].dropna(subset=['gnomAD_AF'])"
   ]
  },
  {
   "cell_type": "code",
   "execution_count": 68,
   "metadata": {},
   "outputs": [
    {
     "name": "stdout",
     "output_type": "stream",
     "text": [
      "96686\n"
     ]
    },
    {
     "data": {
      "text/html": [
       "<div>\n",
       "<style scoped>\n",
       "    .dataframe tbody tr th:only-of-type {\n",
       "        vertical-align: middle;\n",
       "    }\n",
       "\n",
       "    .dataframe tbody tr th {\n",
       "        vertical-align: top;\n",
       "    }\n",
       "\n",
       "    .dataframe thead th {\n",
       "        text-align: right;\n",
       "    }\n",
       "</style>\n",
       "<table border=\"1\" class=\"dataframe\">\n",
       "  <thead>\n",
       "    <tr style=\"text-align: right;\">\n",
       "      <th></th>\n",
       "      <th>#AlleleID</th>\n",
       "      <th>Type</th>\n",
       "      <th>Name</th>\n",
       "      <th>GeneID</th>\n",
       "      <th>GeneSymbol</th>\n",
       "      <th>HGNC_ID</th>\n",
       "      <th>ClinicalSignificance</th>\n",
       "      <th>ClinSigSimple</th>\n",
       "      <th>RS# (dbSNP)</th>\n",
       "      <th>nsv/esv (dbVar)</th>\n",
       "      <th>...</th>\n",
       "      <th>CDS_position</th>\n",
       "      <th>Protein_position</th>\n",
       "      <th>Amino_acids</th>\n",
       "      <th>Codons</th>\n",
       "      <th>Existing_variation</th>\n",
       "      <th>Extra</th>\n",
       "      <th>PositionVCF_dashed</th>\n",
       "      <th>gnomADe_AF</th>\n",
       "      <th>gnomADg_AF</th>\n",
       "      <th>gnomAD_AF</th>\n",
       "    </tr>\n",
       "  </thead>\n",
       "  <tbody>\n",
       "    <tr>\n",
       "      <th>0</th>\n",
       "      <td>1809239</td>\n",
       "      <td>single nucleotide variant</td>\n",
       "      <td>NM_001386125.1(OBSCN):c.496G&gt;A (p.Ala166Thr)</td>\n",
       "      <td>84033</td>\n",
       "      <td>OBSCN</td>\n",
       "      <td>HGNC:15719</td>\n",
       "      <td>Benign/Likely benign</td>\n",
       "      <td>0</td>\n",
       "      <td>-1</td>\n",
       "      <td>-</td>\n",
       "      <td>...</td>\n",
       "      <td>496</td>\n",
       "      <td>166</td>\n",
       "      <td>A/T</td>\n",
       "      <td>Gca/Aca</td>\n",
       "      <td>rs555146765</td>\n",
       "      <td>IMPACT=MODERATE;STRAND=1;SYMBOL=OBSCN;SYMBOL_S...</td>\n",
       "      <td>228212279</td>\n",
       "      <td>0.001133</td>\n",
       "      <td>0.000913</td>\n",
       "      <td>0.001133</td>\n",
       "    </tr>\n",
       "    <tr>\n",
       "      <th>6</th>\n",
       "      <td>2059238</td>\n",
       "      <td>single nucleotide variant</td>\n",
       "      <td>NM_006734.4(HIVEP2):c.1529C&gt;T (p.Ser510Leu)</td>\n",
       "      <td>3097</td>\n",
       "      <td>HIVEP2</td>\n",
       "      <td>HGNC:4921</td>\n",
       "      <td>Likely benign</td>\n",
       "      <td>0</td>\n",
       "      <td>-1</td>\n",
       "      <td>-</td>\n",
       "      <td>...</td>\n",
       "      <td>1529</td>\n",
       "      <td>510</td>\n",
       "      <td>S/L</td>\n",
       "      <td>tCa/tTa</td>\n",
       "      <td>rs531761193</td>\n",
       "      <td>IMPACT=MODERATE;STRAND=-1;SYMBOL=HIVEP2;SYMBOL...</td>\n",
       "      <td>142773210</td>\n",
       "      <td>0.000031</td>\n",
       "      <td>0.000013</td>\n",
       "      <td>0.000031</td>\n",
       "    </tr>\n",
       "  </tbody>\n",
       "</table>\n",
       "<p>2 rows × 50 columns</p>\n",
       "</div>"
      ],
      "text/plain": [
       "   #AlleleID                       Type  \\\n",
       "0    1809239  single nucleotide variant   \n",
       "6    2059238  single nucleotide variant   \n",
       "\n",
       "                                           Name  GeneID GeneSymbol  \\\n",
       "0  NM_001386125.1(OBSCN):c.496G>A (p.Ala166Thr)   84033      OBSCN   \n",
       "6   NM_006734.4(HIVEP2):c.1529C>T (p.Ser510Leu)    3097     HIVEP2   \n",
       "\n",
       "      HGNC_ID  ClinicalSignificance  ClinSigSimple  RS# (dbSNP)  \\\n",
       "0  HGNC:15719  Benign/Likely benign              0           -1   \n",
       "6   HGNC:4921         Likely benign              0           -1   \n",
       "\n",
       "  nsv/esv (dbVar)  ... CDS_position Protein_position Amino_acids   Codons  \\\n",
       "0               -  ...          496              166         A/T  Gca/Aca   \n",
       "6               -  ...         1529              510         S/L  tCa/tTa   \n",
       "\n",
       "  Existing_variation                                              Extra  \\\n",
       "0        rs555146765  IMPACT=MODERATE;STRAND=1;SYMBOL=OBSCN;SYMBOL_S...   \n",
       "6        rs531761193  IMPACT=MODERATE;STRAND=-1;SYMBOL=HIVEP2;SYMBOL...   \n",
       "\n",
       "  PositionVCF_dashed gnomADe_AF  gnomADg_AF  gnomAD_AF  \n",
       "0          228212279   0.001133    0.000913   0.001133  \n",
       "6          142773210   0.000031    0.000013   0.000031  \n",
       "\n",
       "[2 rows x 50 columns]"
      ]
     },
     "execution_count": 68,
     "metadata": {},
     "output_type": "execute_result"
    }
   ],
   "source": [
    "print(len(data_filter4_3))\n",
    "data_filter4_3.head(2)"
   ]
  },
  {
   "cell_type": "code",
   "execution_count": 69,
   "metadata": {},
   "outputs": [
    {
     "data": {
      "text/plain": [
       "96686"
      ]
     },
     "execution_count": 69,
     "metadata": {},
     "output_type": "execute_result"
    }
   ],
   "source": [
    "len(data_filter4_3[data_filter4_3.gnomAD_AF.notna()])"
   ]
  },
  {
   "cell_type": "code",
   "execution_count": 70,
   "metadata": {},
   "outputs": [
    {
     "name": "stdout",
     "output_type": "stream",
     "text": [
      "IMPACT=MODERATE;STRAND=1;SYMBOL=OBSCN;SYMBOL_SOURCE=HGNC;HGNC_ID=HGNC:15719;CCDS=CCDS1570.2;ENSP=ENSP00000284548;SWISSPROT=Q5VST9.202;UNIPARC=UPI0000425971;UNIPROT_ISOFORM=Q5VST9-3;HGVSc=ENST00000284548.16:c.496G>A;HGVSp=ENSP00000284548.11:p.Ala166Thr;AF=0.0004;AFR_AF=0.0008;AMR_AF=0.0014;EAS_AF=0;EUR_AF=0;SAS_AF=0;gnomADe_AF=0.001133;gnomADe_AFR_AF=0.0002016;gnomADe_AMR_AF=0.0004112;gnomADe_ASJ_AF=9.352e-05;gnomADe_EAS_AF=0;gnomADe_FIN_AF=0.0004933;gnomADe_MID_AF=0.0005405;gnomADe_NFE_AF=0.001353;gnomADe_REMAINING_AF=0.0005889;gnomADe_SAS_AF=0;gnomADg_AF=0.0009133;gnomADg_AFR_AF=0.0003389;gnomADg_AMI_AF=0;gnomADg_AMR_AF=0.001063;gnomADg_ASJ_AF=0;gnomADg_EAS_AF=0;gnomADg_FIN_AF=0.0001037;gnomADg_MID_AF=0;gnomADg_NFE_AF=0.00156;gnomADg_REMAINING_AF=0.0004812;gnomADg_SAS_AF=0;MAX_AF=0.00156;MAX_AF_POPS=gnomADg_NFE;CLIN_SIG=likely_benign,benign;PHENO=1\n"
     ]
    }
   ],
   "source": [
    "print(data_filter4_3[\"Extra\"].iloc[0])"
   ]
  },
  {
   "cell_type": "code",
   "execution_count": 71,
   "metadata": {},
   "outputs": [
    {
     "name": "stdout",
     "output_type": "stream",
     "text": [
      "96686\n",
      "96544\n"
     ]
    }
   ],
   "source": [
    "data_filter4_3 = data_filter4_3.sort_values(by='LastEvaluated (Year)', ascending=False)\n",
    "data_filter4_3['HGVSp'] = data_filter4_3['Extra'].str.extract(r'HGVSp=([^;]+)')\n",
    "\n",
    "cols_check = ['Type', 'GeneID','Gene', 'GeneSymbol', 'Feature','HGNC_ID',\n",
    "      'Assembly','ChromosomeAccession', 'Chromosome', \n",
    "      'HGVSp','Protein_position', 'Amino_acids','Variant']\n",
    "\n",
    "data_filter4_4 = data_filter4_3.drop_duplicates(subset=cols_check, keep='first')\n",
    "\n",
    "print(len(data_filter4_3))\n",
    "print(len(data_filter4_4))"
   ]
  },
  {
   "cell_type": "markdown",
   "metadata": {},
   "source": [
    "### 5. Keep genes with at least one pathogenic variant of any type."
   ]
  },
  {
   "cell_type": "code",
   "execution_count": 72,
   "metadata": {},
   "outputs": [
    {
     "data": {
      "text/plain": [
       "array(['Pathogenic/Likely pathogenic', 'Likely pathogenic', 'Pathogenic',\n",
       "       'Likely benign', 'Benign', 'Benign/Likely benign'], dtype=object)"
      ]
     },
     "execution_count": 72,
     "metadata": {},
     "output_type": "execute_result"
    }
   ],
   "source": [
    "data_filter4_3.ClinicalSignificance.unique()"
   ]
  },
  {
   "cell_type": "code",
   "execution_count": 73,
   "metadata": {},
   "outputs": [],
   "source": [
    "def filter_pathogenic_genes(df):\n",
    "    # pathogenic terms\n",
    "    pathogenic_terms = ['Pathogenic', 'Likely pathogenic', 'Pathogenic/Likely pathogenic']\n",
    "    \n",
    "    # filter for genes that have at least one pathogenic variant\n",
    "    pathogenic_genes = df[df['ClinicalSignificance'].isin(pathogenic_terms)]['GeneSymbol'].unique()\n",
    "    \n",
    "    # filter df to retain only variants for those genes\n",
    "    df_filtered = df[df['GeneSymbol'].isin(pathogenic_genes)]\n",
    "    \n",
    "    return df_filtered"
   ]
  },
  {
   "cell_type": "code",
   "execution_count": 74,
   "metadata": {},
   "outputs": [],
   "source": [
    "data_filter5 = filter_pathogenic_genes(data_filter4_4)"
   ]
  },
  {
   "cell_type": "code",
   "execution_count": 75,
   "metadata": {},
   "outputs": [
    {
     "data": {
      "text/plain": [
       "49187"
      ]
     },
     "execution_count": 75,
     "metadata": {},
     "output_type": "execute_result"
    }
   ],
   "source": [
    "len(data_filter5)"
   ]
  },
  {
   "cell_type": "markdown",
   "metadata": {},
   "source": [
    "Notice that only GRCh38 remains. All the pathogenic variants in the filtered dataset are from this assembly."
   ]
  },
  {
   "cell_type": "code",
   "execution_count": 106,
   "metadata": {},
   "outputs": [
    {
     "data": {
      "text/plain": [
       "Assembly\n",
       "GRCh38    49187\n",
       "Name: count, dtype: int64"
      ]
     },
     "execution_count": 106,
     "metadata": {},
     "output_type": "execute_result"
    }
   ],
   "source": [
    "data_filter5[\"Assembly\"].value_counts()"
   ]
  },
  {
   "cell_type": "markdown",
   "metadata": {},
   "source": [
    "### Some parsing final steps..."
   ]
  },
  {
   "cell_type": "code",
   "execution_count": 76,
   "metadata": {},
   "outputs": [],
   "source": [
    "def classify_significance(clinical_significance):\n",
    "    if any(term in clinical_significance for term in ['Pathogenic', 'Likely pathogenic']):\n",
    "        return 'P'\n",
    "    elif any(term in clinical_significance for term in ['Benign', 'Likely benign']):\n",
    "        return 'B'\n",
    "    return 'Other'"
   ]
  },
  {
   "cell_type": "code",
   "execution_count": 77,
   "metadata": {},
   "outputs": [],
   "source": [
    "cleaned_ClinVar_dataset = data_filter5.copy()\n",
    "cleaned_ClinVar_dataset['BinaryClinicalSignificance'] = data_filter5['ClinicalSignificance'].apply(classify_significance)"
   ]
  },
  {
   "cell_type": "code",
   "execution_count": 78,
   "metadata": {},
   "outputs": [
    {
     "data": {
      "text/plain": [
       "BinaryClinicalSignificance\n",
       "B    34405\n",
       "P    14782\n",
       "Name: count, dtype: int64"
      ]
     },
     "execution_count": 78,
     "metadata": {},
     "output_type": "execute_result"
    }
   ],
   "source": [
    "cleaned_ClinVar_dataset.BinaryClinicalSignificance.value_counts()"
   ]
  },
  {
   "cell_type": "code",
   "execution_count": 79,
   "metadata": {},
   "outputs": [
    {
     "data": {
      "text/plain": [
       "2156"
      ]
     },
     "execution_count": 79,
     "metadata": {},
     "output_type": "execute_result"
    }
   ],
   "source": [
    "len(cleaned_ClinVar_dataset.GeneSymbol.unique())"
   ]
  },
  {
   "cell_type": "code",
   "execution_count": 93,
   "metadata": {},
   "outputs": [
    {
     "data": {
      "text/plain": [
       "49187"
      ]
     },
     "execution_count": 93,
     "metadata": {},
     "output_type": "execute_result"
    }
   ],
   "source": [
    "len(cleaned_ClinVar_dataset)"
   ]
  },
  {
   "cell_type": "code",
   "execution_count": 81,
   "metadata": {},
   "outputs": [
    {
     "data": {
      "text/html": [
       "<div>\n",
       "<style scoped>\n",
       "    .dataframe tbody tr th:only-of-type {\n",
       "        vertical-align: middle;\n",
       "    }\n",
       "\n",
       "    .dataframe tbody tr th {\n",
       "        vertical-align: top;\n",
       "    }\n",
       "\n",
       "    .dataframe thead th {\n",
       "        text-align: right;\n",
       "    }\n",
       "</style>\n",
       "<table border=\"1\" class=\"dataframe\">\n",
       "  <thead>\n",
       "    <tr style=\"text-align: right;\">\n",
       "      <th></th>\n",
       "      <th>#AlleleID</th>\n",
       "      <th>Type</th>\n",
       "      <th>Name</th>\n",
       "      <th>GeneID</th>\n",
       "      <th>GeneSymbol</th>\n",
       "      <th>HGNC_ID</th>\n",
       "      <th>ClinicalSignificance</th>\n",
       "      <th>ClinSigSimple</th>\n",
       "      <th>RS# (dbSNP)</th>\n",
       "      <th>nsv/esv (dbVar)</th>\n",
       "      <th>...</th>\n",
       "      <th>Amino_acids</th>\n",
       "      <th>Codons</th>\n",
       "      <th>Existing_variation</th>\n",
       "      <th>Extra</th>\n",
       "      <th>PositionVCF_dashed</th>\n",
       "      <th>gnomADe_AF</th>\n",
       "      <th>gnomADg_AF</th>\n",
       "      <th>gnomAD_AF</th>\n",
       "      <th>HGVSp</th>\n",
       "      <th>BinaryClinicalSignificance</th>\n",
       "    </tr>\n",
       "  </thead>\n",
       "  <tbody>\n",
       "    <tr>\n",
       "      <th>119639</th>\n",
       "      <td>29901</td>\n",
       "      <td>single nucleotide variant</td>\n",
       "      <td>NM_182894.3(VSX2):c.679C&gt;T (p.Arg227Trp)</td>\n",
       "      <td>338917</td>\n",
       "      <td>VSX2</td>\n",
       "      <td>HGNC:1975</td>\n",
       "      <td>Pathogenic/Likely pathogenic</td>\n",
       "      <td>1</td>\n",
       "      <td>121912545</td>\n",
       "      <td>-</td>\n",
       "      <td>...</td>\n",
       "      <td>R/W</td>\n",
       "      <td>Cgg/Tgg</td>\n",
       "      <td>rs121912545,CM042327</td>\n",
       "      <td>IMPACT=MODERATE;STRAND=1;SYMBOL=VSX2;SYMBOL_SO...</td>\n",
       "      <td>74259701</td>\n",
       "      <td>0.000003</td>\n",
       "      <td>0.000020</td>\n",
       "      <td>0.000003</td>\n",
       "      <td>ENSP00000261980.2:p.Arg227Trp</td>\n",
       "      <td>P</td>\n",
       "    </tr>\n",
       "    <tr>\n",
       "      <th>93641</th>\n",
       "      <td>104480</td>\n",
       "      <td>single nucleotide variant</td>\n",
       "      <td>NM_000180.4(GUCY2D):c.307G&gt;A (p.Glu103Lys)</td>\n",
       "      <td>3000</td>\n",
       "      <td>GUCY2D</td>\n",
       "      <td>HGNC:4689</td>\n",
       "      <td>Likely pathogenic</td>\n",
       "      <td>1</td>\n",
       "      <td>61749668</td>\n",
       "      <td>-</td>\n",
       "      <td>...</td>\n",
       "      <td>E/K</td>\n",
       "      <td>Gag/Aag</td>\n",
       "      <td>rs61749668,CM077936</td>\n",
       "      <td>IMPACT=MODERATE;STRAND=1;SYMBOL=GUCY2D;SYMBOL_...</td>\n",
       "      <td>8003354</td>\n",
       "      <td>0.000191</td>\n",
       "      <td>0.000033</td>\n",
       "      <td>0.000191</td>\n",
       "      <td>ENSP00000254854.4:p.Glu103Lys</td>\n",
       "      <td>P</td>\n",
       "    </tr>\n",
       "    <tr>\n",
       "      <th>59576</th>\n",
       "      <td>3734350</td>\n",
       "      <td>single nucleotide variant</td>\n",
       "      <td>NM_000441.2(SLC26A4):c.1335G&gt;C (p.Leu445Phe)</td>\n",
       "      <td>5172</td>\n",
       "      <td>SLC26A4</td>\n",
       "      <td>HGNC:8818</td>\n",
       "      <td>Likely pathogenic</td>\n",
       "      <td>1</td>\n",
       "      <td>-1</td>\n",
       "      <td>-</td>\n",
       "      <td>...</td>\n",
       "      <td>L/F</td>\n",
       "      <td>ttG/ttC</td>\n",
       "      <td>rs1355468475</td>\n",
       "      <td>IMPACT=MODERATE;STRAND=1;SYMBOL=SLC26A4;SYMBOL...</td>\n",
       "      <td>107694474</td>\n",
       "      <td>NaN</td>\n",
       "      <td>0.000007</td>\n",
       "      <td>0.000007</td>\n",
       "      <td>ENSP00000494017.1:p.Leu445Phe</td>\n",
       "      <td>P</td>\n",
       "    </tr>\n",
       "    <tr>\n",
       "      <th>59575</th>\n",
       "      <td>3734348</td>\n",
       "      <td>single nucleotide variant</td>\n",
       "      <td>NM_000441.2(SLC26A4):c.1279T&gt;C (p.Ser427Pro)</td>\n",
       "      <td>5172</td>\n",
       "      <td>SLC26A4</td>\n",
       "      <td>HGNC:8818</td>\n",
       "      <td>Pathogenic</td>\n",
       "      <td>1</td>\n",
       "      <td>-1</td>\n",
       "      <td>-</td>\n",
       "      <td>...</td>\n",
       "      <td>S/P</td>\n",
       "      <td>Tct/Cct</td>\n",
       "      <td>rs758015694</td>\n",
       "      <td>IMPACT=MODERATE;STRAND=1;SYMBOL=SLC26A4;SYMBOL...</td>\n",
       "      <td>107694418</td>\n",
       "      <td>0.000002</td>\n",
       "      <td>NaN</td>\n",
       "      <td>0.000002</td>\n",
       "      <td>ENSP00000494017.1:p.Ser427Pro</td>\n",
       "      <td>P</td>\n",
       "    </tr>\n",
       "    <tr>\n",
       "      <th>59572</th>\n",
       "      <td>3734343</td>\n",
       "      <td>single nucleotide variant</td>\n",
       "      <td>NM_000441.2(SLC26A4):c.1207G&gt;T (p.Ala403Ser)</td>\n",
       "      <td>5172</td>\n",
       "      <td>SLC26A4</td>\n",
       "      <td>HGNC:8818</td>\n",
       "      <td>Likely pathogenic</td>\n",
       "      <td>1</td>\n",
       "      <td>-1</td>\n",
       "      <td>-</td>\n",
       "      <td>...</td>\n",
       "      <td>A/S</td>\n",
       "      <td>Gcc/Tcc</td>\n",
       "      <td>rs1791527351,COSV107219136</td>\n",
       "      <td>IMPACT=MODERATE;STRAND=1;SYMBOL=SLC26A4;SYMBOL...</td>\n",
       "      <td>107690181</td>\n",
       "      <td>0.000001</td>\n",
       "      <td>NaN</td>\n",
       "      <td>0.000001</td>\n",
       "      <td>ENSP00000494017.1:p.Ala403Ser</td>\n",
       "      <td>P</td>\n",
       "    </tr>\n",
       "  </tbody>\n",
       "</table>\n",
       "<p>5 rows × 52 columns</p>\n",
       "</div>"
      ],
      "text/plain": [
       "        #AlleleID                       Type  \\\n",
       "119639      29901  single nucleotide variant   \n",
       "93641      104480  single nucleotide variant   \n",
       "59576     3734350  single nucleotide variant   \n",
       "59575     3734348  single nucleotide variant   \n",
       "59572     3734343  single nucleotide variant   \n",
       "\n",
       "                                                Name  GeneID GeneSymbol  \\\n",
       "119639      NM_182894.3(VSX2):c.679C>T (p.Arg227Trp)  338917       VSX2   \n",
       "93641     NM_000180.4(GUCY2D):c.307G>A (p.Glu103Lys)    3000     GUCY2D   \n",
       "59576   NM_000441.2(SLC26A4):c.1335G>C (p.Leu445Phe)    5172    SLC26A4   \n",
       "59575   NM_000441.2(SLC26A4):c.1279T>C (p.Ser427Pro)    5172    SLC26A4   \n",
       "59572   NM_000441.2(SLC26A4):c.1207G>T (p.Ala403Ser)    5172    SLC26A4   \n",
       "\n",
       "          HGNC_ID          ClinicalSignificance  ClinSigSimple  RS# (dbSNP)  \\\n",
       "119639  HGNC:1975  Pathogenic/Likely pathogenic              1    121912545   \n",
       "93641   HGNC:4689             Likely pathogenic              1     61749668   \n",
       "59576   HGNC:8818             Likely pathogenic              1           -1   \n",
       "59575   HGNC:8818                    Pathogenic              1           -1   \n",
       "59572   HGNC:8818             Likely pathogenic              1           -1   \n",
       "\n",
       "       nsv/esv (dbVar)  ... Amino_acids   Codons          Existing_variation  \\\n",
       "119639               -  ...         R/W  Cgg/Tgg        rs121912545,CM042327   \n",
       "93641                -  ...         E/K  Gag/Aag         rs61749668,CM077936   \n",
       "59576                -  ...         L/F  ttG/ttC                rs1355468475   \n",
       "59575                -  ...         S/P  Tct/Cct                 rs758015694   \n",
       "59572                -  ...         A/S  Gcc/Tcc  rs1791527351,COSV107219136   \n",
       "\n",
       "                                                    Extra PositionVCF_dashed  \\\n",
       "119639  IMPACT=MODERATE;STRAND=1;SYMBOL=VSX2;SYMBOL_SO...           74259701   \n",
       "93641   IMPACT=MODERATE;STRAND=1;SYMBOL=GUCY2D;SYMBOL_...            8003354   \n",
       "59576   IMPACT=MODERATE;STRAND=1;SYMBOL=SLC26A4;SYMBOL...          107694474   \n",
       "59575   IMPACT=MODERATE;STRAND=1;SYMBOL=SLC26A4;SYMBOL...          107694418   \n",
       "59572   IMPACT=MODERATE;STRAND=1;SYMBOL=SLC26A4;SYMBOL...          107690181   \n",
       "\n",
       "       gnomADe_AF gnomADg_AF gnomAD_AF                          HGVSp  \\\n",
       "119639   0.000003   0.000020  0.000003  ENSP00000261980.2:p.Arg227Trp   \n",
       "93641    0.000191   0.000033  0.000191  ENSP00000254854.4:p.Glu103Lys   \n",
       "59576         NaN   0.000007  0.000007  ENSP00000494017.1:p.Leu445Phe   \n",
       "59575    0.000002        NaN  0.000002  ENSP00000494017.1:p.Ser427Pro   \n",
       "59572    0.000001        NaN  0.000001  ENSP00000494017.1:p.Ala403Ser   \n",
       "\n",
       "        BinaryClinicalSignificance  \n",
       "119639                           P  \n",
       "93641                            P  \n",
       "59576                            P  \n",
       "59575                            P  \n",
       "59572                            P  \n",
       "\n",
       "[5 rows x 52 columns]"
      ]
     },
     "execution_count": 81,
     "metadata": {},
     "output_type": "execute_result"
    }
   ],
   "source": [
    "cleaned_ClinVar_dataset.head()"
   ]
  },
  {
   "cell_type": "markdown",
   "metadata": {},
   "source": [
    "### And some statistics"
   ]
  },
  {
   "cell_type": "code",
   "execution_count": 82,
   "metadata": {},
   "outputs": [],
   "source": [
    "def count_p_and_b_per_gene(df):\n",
    "    # group by 'GeneSymbol' and 'BinaryClinicalSignificance', then count\n",
    "    counts = df.groupby(['GeneSymbol', 'BinaryClinicalSignificance']).size().unstack(fill_value=0)\n",
    "\n",
    "    if 'B' in counts.columns and 'P' in counts.columns:\n",
    "        counts.columns = ['B_count', 'P_count']\n",
    "    elif 'P' in counts.columns:\n",
    "        counts = counts.rename(columns={'P': 'P_count'})\n",
    "    elif 'B' in counts.columns:\n",
    "        counts = counts.rename(columns={'B': 'B_count'})\n",
    "    \n",
    "    return counts"
   ]
  },
  {
   "cell_type": "code",
   "execution_count": 83,
   "metadata": {},
   "outputs": [
    {
     "data": {
      "text/html": [
       "<div>\n",
       "<style scoped>\n",
       "    .dataframe tbody tr th:only-of-type {\n",
       "        vertical-align: middle;\n",
       "    }\n",
       "\n",
       "    .dataframe tbody tr th {\n",
       "        vertical-align: top;\n",
       "    }\n",
       "\n",
       "    .dataframe thead th {\n",
       "        text-align: right;\n",
       "    }\n",
       "</style>\n",
       "<table border=\"1\" class=\"dataframe\">\n",
       "  <thead>\n",
       "    <tr style=\"text-align: right;\">\n",
       "      <th></th>\n",
       "      <th>B_count</th>\n",
       "      <th>P_count</th>\n",
       "    </tr>\n",
       "    <tr>\n",
       "      <th>GeneSymbol</th>\n",
       "      <th></th>\n",
       "      <th></th>\n",
       "    </tr>\n",
       "  </thead>\n",
       "  <tbody>\n",
       "    <tr>\n",
       "      <th>AAAS</th>\n",
       "      <td>2</td>\n",
       "      <td>8</td>\n",
       "    </tr>\n",
       "    <tr>\n",
       "      <th>AARS1</th>\n",
       "      <td>21</td>\n",
       "      <td>4</td>\n",
       "    </tr>\n",
       "    <tr>\n",
       "      <th>AARS2</th>\n",
       "      <td>19</td>\n",
       "      <td>6</td>\n",
       "    </tr>\n",
       "    <tr>\n",
       "      <th>AASS</th>\n",
       "      <td>9</td>\n",
       "      <td>1</td>\n",
       "    </tr>\n",
       "    <tr>\n",
       "      <th>ABAT</th>\n",
       "      <td>2</td>\n",
       "      <td>3</td>\n",
       "    </tr>\n",
       "    <tr>\n",
       "      <th>...</th>\n",
       "      <td>...</td>\n",
       "      <td>...</td>\n",
       "    </tr>\n",
       "    <tr>\n",
       "      <th>ZMYND10</th>\n",
       "      <td>9</td>\n",
       "      <td>4</td>\n",
       "    </tr>\n",
       "    <tr>\n",
       "      <th>ZMYND11</th>\n",
       "      <td>12</td>\n",
       "      <td>2</td>\n",
       "    </tr>\n",
       "    <tr>\n",
       "      <th>ZNF341</th>\n",
       "      <td>21</td>\n",
       "      <td>1</td>\n",
       "    </tr>\n",
       "    <tr>\n",
       "      <th>ZNF408</th>\n",
       "      <td>7</td>\n",
       "      <td>3</td>\n",
       "    </tr>\n",
       "    <tr>\n",
       "      <th>ZP1</th>\n",
       "      <td>4</td>\n",
       "      <td>1</td>\n",
       "    </tr>\n",
       "  </tbody>\n",
       "</table>\n",
       "<p>2156 rows × 2 columns</p>\n",
       "</div>"
      ],
      "text/plain": [
       "            B_count  P_count\n",
       "GeneSymbol                  \n",
       "AAAS              2        8\n",
       "AARS1            21        4\n",
       "AARS2            19        6\n",
       "AASS              9        1\n",
       "ABAT              2        3\n",
       "...             ...      ...\n",
       "ZMYND10           9        4\n",
       "ZMYND11          12        2\n",
       "ZNF341           21        1\n",
       "ZNF408            7        3\n",
       "ZP1               4        1\n",
       "\n",
       "[2156 rows x 2 columns]"
      ]
     },
     "execution_count": 83,
     "metadata": {},
     "output_type": "execute_result"
    }
   ],
   "source": [
    "counts_per_gene = count_p_and_b_per_gene(cleaned_ClinVar_dataset)\n",
    "counts_per_gene"
   ]
  },
  {
   "cell_type": "code",
   "execution_count": 84,
   "metadata": {},
   "outputs": [
    {
     "data": {
      "text/html": [
       "<div>\n",
       "<style scoped>\n",
       "    .dataframe tbody tr th:only-of-type {\n",
       "        vertical-align: middle;\n",
       "    }\n",
       "\n",
       "    .dataframe tbody tr th {\n",
       "        vertical-align: top;\n",
       "    }\n",
       "\n",
       "    .dataframe thead th {\n",
       "        text-align: right;\n",
       "    }\n",
       "</style>\n",
       "<table border=\"1\" class=\"dataframe\">\n",
       "  <thead>\n",
       "    <tr style=\"text-align: right;\">\n",
       "      <th></th>\n",
       "      <th>B_count</th>\n",
       "      <th>P_count</th>\n",
       "    </tr>\n",
       "    <tr>\n",
       "      <th>GeneSymbol</th>\n",
       "      <th></th>\n",
       "      <th></th>\n",
       "    </tr>\n",
       "  </thead>\n",
       "  <tbody>\n",
       "    <tr>\n",
       "      <th>USH2A</th>\n",
       "      <td>90</td>\n",
       "      <td>133</td>\n",
       "    </tr>\n",
       "    <tr>\n",
       "      <th>TP53</th>\n",
       "      <td>65</td>\n",
       "      <td>86</td>\n",
       "    </tr>\n",
       "    <tr>\n",
       "      <th>COL4A3</th>\n",
       "      <td>36</td>\n",
       "      <td>83</td>\n",
       "    </tr>\n",
       "    <tr>\n",
       "      <th>PKHD1</th>\n",
       "      <td>38</td>\n",
       "      <td>79</td>\n",
       "    </tr>\n",
       "    <tr>\n",
       "      <th>COL7A1</th>\n",
       "      <td>237</td>\n",
       "      <td>76</td>\n",
       "    </tr>\n",
       "    <tr>\n",
       "      <th>FBN1</th>\n",
       "      <td>48</td>\n",
       "      <td>68</td>\n",
       "    </tr>\n",
       "    <tr>\n",
       "      <th>COL4A4</th>\n",
       "      <td>47</td>\n",
       "      <td>68</td>\n",
       "    </tr>\n",
       "    <tr>\n",
       "      <th>RYR1</th>\n",
       "      <td>47</td>\n",
       "      <td>62</td>\n",
       "    </tr>\n",
       "    <tr>\n",
       "      <th>COL4A5</th>\n",
       "      <td>113</td>\n",
       "      <td>60</td>\n",
       "    </tr>\n",
       "    <tr>\n",
       "      <th>SCN1A</th>\n",
       "      <td>44</td>\n",
       "      <td>56</td>\n",
       "    </tr>\n",
       "    <tr>\n",
       "      <th>NOTCH3</th>\n",
       "      <td>77</td>\n",
       "      <td>50</td>\n",
       "    </tr>\n",
       "    <tr>\n",
       "      <th>DYSF</th>\n",
       "      <td>69</td>\n",
       "      <td>48</td>\n",
       "    </tr>\n",
       "    <tr>\n",
       "      <th>ABCB11</th>\n",
       "      <td>31</td>\n",
       "      <td>42</td>\n",
       "    </tr>\n",
       "    <tr>\n",
       "      <th>ABCD1</th>\n",
       "      <td>61</td>\n",
       "      <td>36</td>\n",
       "    </tr>\n",
       "    <tr>\n",
       "      <th>MYO15A</th>\n",
       "      <td>66</td>\n",
       "      <td>35</td>\n",
       "    </tr>\n",
       "    <tr>\n",
       "      <th>BRCA2</th>\n",
       "      <td>64</td>\n",
       "      <td>34</td>\n",
       "    </tr>\n",
       "    <tr>\n",
       "      <th>CDH23</th>\n",
       "      <td>32</td>\n",
       "      <td>34</td>\n",
       "    </tr>\n",
       "    <tr>\n",
       "      <th>NPHS1</th>\n",
       "      <td>38</td>\n",
       "      <td>33</td>\n",
       "    </tr>\n",
       "    <tr>\n",
       "      <th>COL2A1</th>\n",
       "      <td>105</td>\n",
       "      <td>31</td>\n",
       "    </tr>\n",
       "    <tr>\n",
       "      <th>CPS1</th>\n",
       "      <td>46</td>\n",
       "      <td>31</td>\n",
       "    </tr>\n",
       "    <tr>\n",
       "      <th>COL1A1</th>\n",
       "      <td>78</td>\n",
       "      <td>30</td>\n",
       "    </tr>\n",
       "  </tbody>\n",
       "</table>\n",
       "</div>"
      ],
      "text/plain": [
       "            B_count  P_count\n",
       "GeneSymbol                  \n",
       "USH2A            90      133\n",
       "TP53             65       86\n",
       "COL4A3           36       83\n",
       "PKHD1            38       79\n",
       "COL7A1          237       76\n",
       "FBN1             48       68\n",
       "COL4A4           47       68\n",
       "RYR1             47       62\n",
       "COL4A5          113       60\n",
       "SCN1A            44       56\n",
       "NOTCH3           77       50\n",
       "DYSF             69       48\n",
       "ABCB11           31       42\n",
       "ABCD1            61       36\n",
       "MYO15A           66       35\n",
       "BRCA2            64       34\n",
       "CDH23            32       34\n",
       "NPHS1            38       33\n",
       "COL2A1          105       31\n",
       "CPS1             46       31\n",
       "COL1A1           78       30"
      ]
     },
     "execution_count": 84,
     "metadata": {},
     "output_type": "execute_result"
    }
   ],
   "source": [
    "counts_per_gene[(counts_per_gene.P_count>=30) & (counts_per_gene.B_count>= 30)].sort_values(by=['P_count','B_count'], ascending=False)"
   ]
  },
  {
   "cell_type": "code",
   "execution_count": 85,
   "metadata": {},
   "outputs": [],
   "source": [
    "cleaned_ClinVar_dataset['PositionVCF'] = pd.to_numeric(cleaned_ClinVar_dataset['PositionVCF'])\n",
    "\n",
    "# sort by chromosome and position\n",
    "cleaned_ClinVar_dataset = cleaned_ClinVar_dataset.sort_values(['Chromosome', 'PositionVCF'])\n",
    "cleaned_ClinVar_dataset = cleaned_ClinVar_dataset.reset_index(drop=True)"
   ]
  },
  {
   "cell_type": "code",
   "execution_count": 96,
   "metadata": {},
   "outputs": [
    {
     "data": {
      "text/plain": [
       "array(['GRCh38'], dtype=object)"
      ]
     },
     "execution_count": 96,
     "metadata": {},
     "output_type": "execute_result"
    }
   ],
   "source": [
    "cleaned_ClinVar_dataset[\"Assembly\"].unique()"
   ]
  },
  {
   "cell_type": "code",
   "execution_count": 86,
   "metadata": {},
   "outputs": [],
   "source": [
    "# this works as database (with the applied filters) from where to retrieve variants for the variants_pipeline.sh\n",
    "cleaned_ClinVar_dataset.to_csv('../data/clinvar/cleaned_ClinVar_dataset.csv', index=0)"
   ]
  },
  {
   "cell_type": "code",
   "execution_count": 87,
   "metadata": {},
   "outputs": [
    {
     "data": {
      "text/html": [
       "<div>\n",
       "<style scoped>\n",
       "    .dataframe tbody tr th:only-of-type {\n",
       "        vertical-align: middle;\n",
       "    }\n",
       "\n",
       "    .dataframe tbody tr th {\n",
       "        vertical-align: top;\n",
       "    }\n",
       "\n",
       "    .dataframe thead th {\n",
       "        text-align: right;\n",
       "    }\n",
       "</style>\n",
       "<table border=\"1\" class=\"dataframe\">\n",
       "  <thead>\n",
       "    <tr style=\"text-align: right;\">\n",
       "      <th></th>\n",
       "      <th>Name</th>\n",
       "      <th>Chromosome</th>\n",
       "      <th>ReferenceAlleleVCF</th>\n",
       "      <th>PositionVCF</th>\n",
       "      <th>AlternateAlleleVCF</th>\n",
       "    </tr>\n",
       "  </thead>\n",
       "  <tbody>\n",
       "    <tr>\n",
       "      <th>0</th>\n",
       "      <td>NM_198576.4(AGRN):c.11G&gt;C (p.Arg4Pro)</td>\n",
       "      <td>1</td>\n",
       "      <td>G</td>\n",
       "      <td>1020183</td>\n",
       "      <td>C</td>\n",
       "    </tr>\n",
       "    <tr>\n",
       "      <th>1</th>\n",
       "      <td>NM_198576.4(AGRN):c.125A&gt;C (p.Glu42Ala)</td>\n",
       "      <td>1</td>\n",
       "      <td>A</td>\n",
       "      <td>1020297</td>\n",
       "      <td>C</td>\n",
       "    </tr>\n",
       "    <tr>\n",
       "      <th>2</th>\n",
       "      <td>NM_198576.4(AGRN):c.494C&gt;T (p.Pro165Leu)</td>\n",
       "      <td>1</td>\n",
       "      <td>C</td>\n",
       "      <td>1035307</td>\n",
       "      <td>T</td>\n",
       "    </tr>\n",
       "    <tr>\n",
       "      <th>3</th>\n",
       "      <td>NM_198576.4(AGRN):c.773C&gt;T (p.Thr258Ile)</td>\n",
       "      <td>1</td>\n",
       "      <td>C</td>\n",
       "      <td>1041218</td>\n",
       "      <td>T</td>\n",
       "    </tr>\n",
       "    <tr>\n",
       "      <th>4</th>\n",
       "      <td>NM_198576.4(AGRN):c.1058A&gt;G (p.Gln353Arg)</td>\n",
       "      <td>1</td>\n",
       "      <td>A</td>\n",
       "      <td>1041583</td>\n",
       "      <td>G</td>\n",
       "    </tr>\n",
       "  </tbody>\n",
       "</table>\n",
       "</div>"
      ],
      "text/plain": [
       "                                        Name Chromosome ReferenceAlleleVCF  \\\n",
       "0      NM_198576.4(AGRN):c.11G>C (p.Arg4Pro)          1                  G   \n",
       "1    NM_198576.4(AGRN):c.125A>C (p.Glu42Ala)          1                  A   \n",
       "2   NM_198576.4(AGRN):c.494C>T (p.Pro165Leu)          1                  C   \n",
       "3   NM_198576.4(AGRN):c.773C>T (p.Thr258Ile)          1                  C   \n",
       "4  NM_198576.4(AGRN):c.1058A>G (p.Gln353Arg)          1                  A   \n",
       "\n",
       "   PositionVCF AlternateAlleleVCF  \n",
       "0      1020183                  C  \n",
       "1      1020297                  C  \n",
       "2      1035307                  T  \n",
       "3      1041218                  T  \n",
       "4      1041583                  G  "
      ]
     },
     "execution_count": 87,
     "metadata": {},
     "output_type": "execute_result"
    }
   ],
   "source": [
    "cleaned_ClinVar_dataset[['Name','Chromosome','ReferenceAlleleVCF','PositionVCF','AlternateAlleleVCF']].head()"
   ]
  },
  {
   "cell_type": "markdown",
   "metadata": {},
   "source": [
    "Now that the dataset is cleaned, we convert it into VCF format for input to the VEP tool, so we can obtain predictions from the chosen pathogenicity predictors."
   ]
  },
  {
   "cell_type": "code",
   "execution_count": 88,
   "metadata": {},
   "outputs": [
    {
     "name": "stdout",
     "output_type": "stream",
     "text": [
      "VCF file created at: ../data/clinvar/cleaned_Clinvar_dataset_inputVEP.vcf\n"
     ]
    }
   ],
   "source": [
    "create_vcf(cleaned_ClinVar_dataset[['Chromosome', 'PositionVCF', 'RS# (dbSNP)', \n",
    "                                    'ReferenceAlleleVCF', 'AlternateAlleleVCF']],\n",
    "                                    \"../data/clinvar/cleaned_Clinvar_dataset_inputVEP.vcf\")"
   ]
  },
  {
   "cell_type": "markdown",
   "metadata": {},
   "source": [
    "Command run in the script (notice separation by assembly)"
   ]
  },
  {
   "cell_type": "code",
   "execution_count": 90,
   "metadata": {
    "vscode": {
     "languageId": "shellscript"
    }
   },
   "outputs": [],
   "source": [
    "#    ./vep -i cleaned_Clinvar_dataset_inputVEP.vcf -o cleaned_Clinvar_dataset_outputVEP.txt --offline \\\n",
    "#        --assembly $assembly \\\n",
    "#        --symbol --transcript_version --ccds --protein --uniprot --canonical \\\n",
    "#        --hgvs --fasta Homo_sapiens.GRCh38.dna.primary_assembly.fa.gz \\\n",
    "#        --af --af_1kg --af_gnomade --af_gnomadg --max_af \\\n",
    "#        --sift b --polyphen b \\\n",
    "#        --plugin AlphaMissense,file=/home/aitanadiaz/ensembl-vep/plugins/AlphaMissense_${assembly}.tsv.gz \\\n",
    "#        --plugin BayesDel,file=/home/aitanadiaz/ensembl-vep/plugins/BayesDel_170824_addAF_all_scores.txt.gz \\\n",
    "#        --plugin Blosum62 \\\n",
    "#        --plugin CADD,snv=/home/aitanadiaz/ensembl-vep/plugins/whole_genome_SNVs_${assembly}.tsv.gz \\\n",
    "#        --plugin dbNSFP,/home/aitanadiaz/ensembl-vep/plugins/dbNSFP5.0a.gz,VEST4_score,VEST4_rankscore \\\n",
    "#        --plugin EVE,file=/home/aitanadiaz/ensembl-vep/plugins/EVE/eve_merged.vcf.gz \\\n",
    "#        --plugin REVEL,file=/home/aitanadiaz/ensembl-vep/plugins/new_tabbed_revel_${assembly}.tsv.gz"
   ]
  },
  {
   "cell_type": "markdown",
   "metadata": {},
   "source": [
    "### Read VEP output (predictions added!)"
   ]
  },
  {
   "cell_type": "markdown",
   "metadata": {},
   "source": [
    "Notice we are obtaining predictions only for the following predictors:\n",
    "- __CADD__\n",
    "- __EVE__\n",
    "- __AlphaMissense__\n",
    "- __BayesDel__\n",
    "- __REVEL__\n",
    "- __VEST4__\n",
    "\n",
    "Missing ones will be run and add after parsing VEP results."
   ]
  },
  {
   "cell_type": "code",
   "execution_count": null,
   "metadata": {},
   "outputs": [],
   "source": [
    "VEP_output = pd.read_csv('../data/clinvar/TTiZfTr7N4guoG4E.txt', sep='\\t')"
   ]
  },
  {
   "cell_type": "code",
   "execution_count": null,
   "metadata": {},
   "outputs": [],
   "source": [
    "VEP_output.columns()"
   ]
  },
  {
   "cell_type": "code",
   "execution_count": null,
   "metadata": {},
   "outputs": [],
   "source": [
    "# List of target predictors to check for in column names\n",
    "predictors = [\n",
    "    'SIFT', 'PolyPhen', 'MutPred', 'MutationAssessor', 'CADD', 'MetaSVM', 'MetaLR',\n",
    "    'REVEL', 'Envision', 'FATHMM', 'EVE', 'VARITY', 'VEST4', 'PrimateAI', 'BayesDel', \n",
    "    'VariPred', '3Cnet', 'CAPICE', 'SNPred', 'AlphaMissense', 'MutScore'\n",
    "]\n",
    "\n",
    "# Loop through the predictors and check if any of them exist in the column names\n",
    "for predictor in predictors:\n",
    "    # Check if the predictor name is part of any column name\n",
    "    matching_columns = [col for col in VEP_output.columns if predictor in col]\n",
    "    \n",
    "    # If any matching columns are found, print their head\n",
    "    if matching_columns:\n",
    "        print(f\"Columns matching '{predictor}':\")\n",
    "        print(VEP_output[matching_columns].head())\n",
    "        print(\"\\n\" + \"=\"*50 + \"\\n\")"
   ]
  },
  {
   "cell_type": "code",
   "execution_count": null,
   "metadata": {},
   "outputs": [],
   "source": [
    "df = VEP.clean_vep_data(VEP_output)"
   ]
  },
  {
   "cell_type": "code",
   "execution_count": null,
   "metadata": {},
   "outputs": [],
   "source": [
    "df.head()\n",
    "print(len(df))"
   ]
  },
  {
   "cell_type": "code",
   "execution_count": null,
   "metadata": {},
   "outputs": [],
   "source": [
    "def check_coverage(df):\n",
    "    # check coverage\n",
    "    cols=[i for i in df.columns if '_binary' in i]\n",
    "    \n",
    "    adding=[]\n",
    "    for i in cols:  \n",
    "        tmp = df[df[i].notna()]\n",
    "        i =i.split('_')[0]\n",
    "        if i == 'am':\n",
    "            i = 'AlphaMissense'  \n",
    "        coverage = round(100 * len(tmp) / len(df), 2) \n",
    "        adding.append([i, coverage])\n",
    "        \n",
    "    table=pd.DataFrame(adding, columns=['Predictor','Coverage'])\n",
    "    table=table.sort_values('Coverage',ascending=False).reset_index(drop=True)\n",
    "    return table"
   ]
  },
  {
   "cell_type": "code",
   "execution_count": null,
   "metadata": {},
   "outputs": [],
   "source": [
    "clinvar = pd.read_csv('../data/clinvar/cleaned_ClinVar_dataset.csv')\n",
    "len(clinvar)"
   ]
  },
  {
   "cell_type": "code",
   "execution_count": null,
   "metadata": {},
   "outputs": [],
   "source": [
    "for col in clinvar.columns:\n",
    "    if col in df.columns:\n",
    "        print(col)"
   ]
  },
  {
   "cell_type": "code",
   "execution_count": null,
   "metadata": {},
   "outputs": [],
   "source": [
    "def adjustments_before_merging(clinvar,df):\n",
    "    # adjustments in the clinvar dataset\n",
    "    clinvar_to_merge = clinvar.copy()\n",
    "    clinvar_to_merge['Protein_position'] = clinvar_to_merge['Protein_position'].astype(int)\n",
    "    \n",
    "    # adjustments in the VEP output\n",
    "    df_to_merge=df.copy()\n",
    "    df_to_merge['Chromosome'] = df_to_merge.apply(lambda x: str(x['Location'].split(':')[0]), axis=1)\n",
    "    df_to_merge['Protein_position'] = df_to_merge['Protein_position'].astype(int)\n",
    "    df_to_merge.rename(columns={'SYMBOL':'GeneSymbol'}, inplace=True)\n",
    "    df_to_merge2=df_to_merge.drop_duplicates(subset=['#Uploaded_variation', 'Location', 'Allele', 'GeneSymbol', 'Gene','Feature_type',\n",
    "                  'Protein_position', 'Amino_acids','Chromosome'], keep='first').reset_index(drop=True)\n",
    "    \n",
    "    print(len(df_to_merge),len(df_to_merge2))\n",
    "    \n",
    "    # '-' in clinvar_to_merge['MANE_SELECT'].unique()\n",
    "    \n",
    "    #del df_to_merge['Consequence']\n",
    "    #del df_to_merge['MANE_SELECT']\n",
    "    \n",
    "    del df_to_merge2['Consequence']\n",
    "    del df_to_merge2['MANE_SELECT']\n",
    "    \n",
    "    return clinvar_to_merge, df_to_merge2"
   ]
  },
  {
   "cell_type": "code",
   "execution_count": null,
   "metadata": {},
   "outputs": [],
   "source": [
    "clinvar_merge, df_merge = adjustments_before_merging(clinvar, df)"
   ]
  },
  {
   "cell_type": "code",
   "execution_count": null,
   "metadata": {},
   "outputs": [],
   "source": [
    "df_merge.BIOTYPE.unique()"
   ]
  },
  {
   "cell_type": "code",
   "execution_count": null,
   "metadata": {},
   "outputs": [],
   "source": [
    "merge_cols=['HGNC_ID','Gene','GeneSymbol','Chromosome','Protein_position','Amino_acids','variant','Feature']\n",
    "#merge_cols=['HGNC_ID','Gene','Feature','GeneSymbol','Chromosome','Protein_position','Amino_acids']\n",
    "\n",
    "print(clinvar_merge[merge_cols].dtypes)\n",
    "print(len(clinvar_merge),'\\n')\n",
    "\n",
    "print(df_merge[merge_cols].dtypes)\n",
    "print(len(df_merge))"
   ]
  },
  {
   "cell_type": "code",
   "execution_count": null,
   "metadata": {},
   "outputs": [],
   "source": [
    "clinvar_merge['Chromosome'] = clinvar_merge['Chromosome'].astype(str)\n",
    "df_merge['Chromosome'] = df_merge['Chromosome'].astype(str)\n",
    "\n",
    "print(clinvar_merge[merge_cols].dtypes)\n",
    "print(df_merge[merge_cols].dtypes)"
   ]
  },
  {
   "cell_type": "code",
   "execution_count": null,
   "metadata": {},
   "outputs": [],
   "source": [
    "merged_inner = clinvar_merge.merge(df_merge, on=merge_cols, how='inner')\n",
    "print(len(merged_inner))\n",
    "\n",
    "check_coverage(merged_inner)"
   ]
  },
  {
   "cell_type": "code",
   "execution_count": null,
   "metadata": {},
   "outputs": [],
   "source": [
    "merged_inner.BinaryClinicalSignificance.value_counts()"
   ]
  },
  {
   "cell_type": "code",
   "execution_count": null,
   "metadata": {},
   "outputs": [],
   "source": [
    "merged_inner[['GeneSymbol','Feature','Uniprot_acc', 'Uniprot_entry','UNIPROT_ISOFORM']]"
   ]
  },
  {
   "cell_type": "code",
   "execution_count": null,
   "metadata": {},
   "outputs": [],
   "source": [
    "def process_and_harmonize_data(df):\n",
    "    \"\"\"\n",
    "    Final steps to process protein data:\n",
    "    1. Identify canonical entries\n",
    "    2. Filter for canonical proteins\n",
    "    3. Filter for majority features\n",
    "    4. Harmonize remaining UniProt discrepancies\n",
    "    \n",
    "    Parameters:\n",
    "    df: DataFrame with required columns: \n",
    "        UNIPROT_ISOFORM, Uniprot_acc, GeneSymbol, Features\n",
    "    \n",
    "    Returns:\n",
    "    DataFrame: processed and harmonized DataFrame\n",
    "    \"\"\"\n",
    "    def get_canonical_info(row):\n",
    "        isoform = str(row['UNIPROT_ISOFORM'])\n",
    "\n",
    "        if isoform.endswith('-1'):\n",
    "            return 'canonical'\n",
    "        elif isoform == '-':\n",
    "            acc_list = str(row['Uniprot_acc']).split(',')\n",
    "            canonical = [acc for acc in acc_list if len(acc) == 6 and acc[0] in ['P', 'Q', 'O']]\n",
    "            return 'canonical' if canonical else 'not_canonical'\n",
    "        else:\n",
    "            return 'not_canonical'\n",
    "    \n",
    "    def get_uniprot_prioritizing_isoform(row):\n",
    "        isoform = str(row['UNIPROT_ISOFORM'])\n",
    "\n",
    "        if isoform != '-':\n",
    "            if '-' in isoform:\n",
    "                return isoform.split('-')[0]\n",
    "            return isoform\n",
    "        \n",
    "        acc_list = str(row['Uniprot_acc']).split(',')\n",
    "        canonical = [acc for acc in acc_list if len(acc) == 6 and acc[0] in ['P', 'Q', 'O']]\n",
    "        if canonical:\n",
    "            return canonical[0]\n",
    "        \n",
    "        # if no canonical found, return first entry w/o isoform number\n",
    "        first_acc = acc_list[0]\n",
    "        if '-' in first_acc:\n",
    "            return first_acc.split('-')[0]\n",
    "        return first_acc\n",
    "    \n",
    "    def filter_to_majority_features(df):\n",
    "        majority_features = df.groupby('GeneSymbol').agg({\n",
    "            'Feature': lambda x: x.mode().iloc[0] if len(x.mode()) > 0 else None\n",
    "        }).reset_index()\n",
    "\n",
    "        gene_to_majority_feature = dict(zip(majority_features['GeneSymbol'], \n",
    "                                          majority_features['Feature']))\n",
    "\n",
    "        mask = df.apply(lambda row: (row['Feature'] == gene_to_majority_feature[row['GeneSymbol']]), \n",
    "                       axis=1)\n",
    "        return df[mask].copy()\n",
    "    \n",
    "    def harmonize_uniprot_mappings(df):\n",
    "        gene_uniprot_counts = df.groupby('GeneSymbol')['uniprot'].agg(['nunique', 'unique'])\n",
    "        genes_to_fix = gene_uniprot_counts[gene_uniprot_counts['nunique'] > 1].index\n",
    "        \n",
    "        if len(genes_to_fix) == 0:\n",
    "            return df\n",
    "\n",
    "        fixed_df = df.copy()\n",
    "        for gene in genes_to_fix:\n",
    "            gene_data = fixed_df[fixed_df['GeneSymbol'] == gene]\n",
    "            majority_uniprot = gene_data['uniprot'].mode().iloc[0]\n",
    "            fixed_df.loc[fixed_df['GeneSymbol'] == gene, 'uniprot'] = majority_uniprot\n",
    "            \n",
    "        return fixed_df\n",
    "    \n",
    "    # initial stats\n",
    "    print(\"Initial statistics:\")\n",
    "    print(f\"Total rows: {len(df)}\")\n",
    "    print(f\"Unique genes: {df['GeneSymbol'].nunique()}\")\n",
    "    print(f\"Unique UniProt IDs: {df['Uniprot_acc'].nunique()}\")\n",
    "    \n",
    "    # canonical information\n",
    "    df['canonical_status'] = df.apply(get_canonical_info, axis=1)\n",
    "    \n",
    "    # filter for canonical entries\n",
    "    canonical_df = df[df['canonical_status'] == 'canonical'].copy()\n",
    "    print(\"\\nAfter canonical filtering:\")\n",
    "    print(f\"Remaining rows: {len(canonical_df)}\")\n",
    "    \n",
    "    # standardized UniProt IDs\n",
    "    canonical_df['uniprot'] = canonical_df.apply(get_uniprot_prioritizing_isoform, axis=1)\n",
    "    \n",
    "    # filter for majority features\n",
    "    feature_filtered_df = filter_to_majority_features(canonical_df)\n",
    "    print(\"\\nAfter feature filtering:\")\n",
    "    print(f\"Remaining rows: {len(feature_filtered_df)}\")\n",
    "    \n",
    "    # check and fix any remaining UniProt discrepancies\n",
    "    final_df = harmonize_uniprot_mappings(feature_filtered_df)\n",
    "    \n",
    "    # final validation\n",
    "    print(\"\\nFinal statistics:\")\n",
    "    print(f\"Final rows: {len(final_df)}\")\n",
    "    print(f\"Unique genes: {final_df['GeneSymbol'].nunique()}\")\n",
    "    print(f\"Unique UniProt IDs: {final_df['uniprot'].nunique()}\")\n",
    "    \n",
    "    if final_df['GeneSymbol'].nunique() != final_df['uniprot'].nunique():\n",
    "        print(\"\\nThere are still differences in unique gene and UniProt counts!\")\n",
    "    \n",
    "    return final_df"
   ]
  },
  {
   "cell_type": "code",
   "execution_count": null,
   "metadata": {},
   "outputs": [],
   "source": [
    "clin_final = process_and_harmonize_data(merged_inner)"
   ]
  },
  {
   "cell_type": "code",
   "execution_count": null,
   "metadata": {},
   "outputs": [],
   "source": [
    "print(clin_final.BinaryClinicalSignificance.value_counts())\n",
    "print(len(clin_final))\n",
    "print(clin_final.uniprot.nunique())\n",
    "print(clin_final['GeneSymbol'].nunique())"
   ]
  },
  {
   "cell_type": "code",
   "execution_count": null,
   "metadata": {},
   "outputs": [],
   "source": [
    "check_coverage(clin_final)"
   ]
  },
  {
   "cell_type": "code",
   "execution_count": null,
   "metadata": {},
   "outputs": [],
   "source": [
    "clin_final.to_csv('../data/clinvar/cleaned_Clinvar_dataset_VEPoutput.csv',index=0)"
   ]
  }
 ],
 "metadata": {
  "kernelspec": {
   "display_name": "jupyter_env",
   "language": "python",
   "name": "python3"
  },
  "language_info": {
   "codemirror_mode": {
    "name": "ipython",
    "version": 3
   },
   "file_extension": ".py",
   "mimetype": "text/x-python",
   "name": "python",
   "nbconvert_exporter": "python",
   "pygments_lexer": "ipython3",
   "version": "3.12.3"
  }
 },
 "nbformat": 4,
 "nbformat_minor": 2
}
